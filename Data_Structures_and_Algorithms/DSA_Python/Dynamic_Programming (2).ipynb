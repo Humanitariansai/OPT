{
  "nbformat": 4,
  "nbformat_minor": 0,
  "metadata": {
    "colab": {
      "provenance": []
    },
    "kernelspec": {
      "name": "python3",
      "display_name": "Python 3"
    },
    "language_info": {
      "name": "python"
    }
  },
  "cells": [
    {
      "cell_type": "markdown",
      "source": [
        "# Dynamic Programming"
      ],
      "metadata": {
        "id": "RCzYReEbxfRX"
      }
    },
    {
      "cell_type": "markdown",
      "source": [
        "Dynamic programming is a method for solving optimization problems by breaking them down into simpler subproblems and solving each subproblem only once. This approach is efficient when the same subproblems are solved multiple times in a naive recursive solution. The key idea is to store the results of subproblems to avoid redundant computations, thereby reducing the time complexity from exponential to polynomial.\n",
        "\n",
        "Key Properties\n",
        "\n",
        "Optimal Substructure\n",
        "\n",
        "A problem exhibits optimal substructure if an optimal solution to the problem can be constructed from optimal solutions of its subproblems. This property allows the problem to be broken down into smaller, manageable subproblems.\n",
        "\n",
        "Example: In the shortest path problem, the shortest path from a start node to a target node can be constructed by combining the shortest paths from the start node to intermediate nodes.\n",
        "\n",
        "Overlapping Subproblems\n",
        "\n",
        "A problem has overlapping subproblems if the same subproblems are solved multiple times in the naive recursive solution. Dynamic programming improves efficiency by solving each subproblem once and storing the results.\n",
        "\n",
        "Example: In the Fibonacci sequence, the Fibonacci number for each index is calculated multiple times in a naive recursive solution.\n",
        "\n",
        "Dynamic Programming Approaches\n",
        "\n",
        "Top-Down Approach (Memoization)\n",
        "\n",
        "In the top-down approach, the problem is solved recursively, starting from the main problem and breaking it down into subproblems. Each subproblem is solved only once and its result is stored in a table (or memoized). If the same subproblem is encountered again, the stored result is used instead of recomputing it.\n",
        "\n",
        "Steps:\n",
        "\n",
        "1. Define a recursive function to solve the problem.\n",
        "2. Use a data structure (like a hash table or array) to store the results of subproblems.\n",
        "3. Modify the recursive function to check if the result of a subproblem is already computed and stored. If so, use the stored result; otherwise, compute and store the result.\n",
        "\n",
        "Bottom-Up Approach (Tabulation)\n",
        "\n",
        "In the bottom-up approach, the problem is solved iteratively, starting from the smallest subproblems and combining their solutions to solve larger subproblems. This approach typically uses a table to store the solutions to the subproblems in an iterative manner.\n",
        "\n",
        "Steps:\n",
        "\n",
        "1. Identify the subproblems and the order in which they need to be solved.\n",
        "2. Create a table to store the results of the subproblems.\n",
        "3. Fill the table iteratively, starting from the smallest subproblems and using their results to solve larger subproblems."
      ],
      "metadata": {
        "id": "UHNs5DInq8DM"
      }
    },
    {
      "cell_type": "markdown",
      "source": [
        "\n",
        "### Optimal Substructure in Dynamic Programming\n",
        "\n",
        "**Definition**:\n",
        "Optimal substructure is a property of a problem where the optimal solution can be constructed from the optimal solutions of its subproblems. This property allows problems to be broken down into smaller, manageable subproblems that can be solved independently and combined to form the solution to the original problem.\n",
        "\n",
        "**Mathematical Representation**:\n",
        "For a given problem 𝑃 that can be broken down into subproblems 𝑃1,𝑃2,…,𝑃𝑛 the problem 𝑃 exhibits optimal substructure if:\n",
        "\n",
        "Optimal(𝑃)=Combine(Optimal(𝑃1),Optimal(𝑃2),…,Optimal(𝑃𝑛))\n",
        "\n",
        "Here, Combine is a function that merges the solutions of the subproblems to form the solution of the original problem.\n",
        "\n",
        "### Examples of Optimal Substructure\n",
        "\n",
        "1. **Shortest Path in Graphs**:\n",
        "   - **Problem**: Find the shortest path between two nodes.\n",
        "   - **Optimal Substructure**: The shortest path from node \\( A \\) to node \\( C \\) via node \\( B \\) is the shortest path from \\( A \\) to \\( B \\) plus the shortest path from \\( B \\) to \\( C \\).\n",
        "\n",
        "2. **0/1 Knapsack Problem**:\n",
        "   - **Problem**: Maximize the value of items in a knapsack without exceeding its weight capacity.\n",
        "   - **Optimal Substructure**: The optimal solution with \\( i \\) items and capacity \\( W \\) depends on whether to include or exclude the \\( i \\)-th item, leveraging the solutions to smaller subproblems.\n",
        "\n",
        "3. **Longest Common Subsequence (LCS)**:\n",
        "   - **Problem**: Find the longest common subsequence of two sequences.\n",
        "   - **Optimal Substructure**: The LCS of two sequences can be derived from the LCS of their prefixes, deciding whether to include the last character or not.\n",
        "\n",
        "4. **Matrix Chain Multiplication**:\n",
        "   - **Problem**: Determine the most efficient way to multiply a sequence of matrices.\n",
        "   - **Optimal Substructure**: The optimal parenthesization can be found by dividing the sequence at different points and combining the optimal solutions of the resulting subproblems.\n",
        "\n",
        "### Importance in Dynamic Programming\n",
        "\n",
        "Optimal substructure is a cornerstone of dynamic programming. It allows for:\n",
        "- **Breaking down complex problems**: Decomposing a problem into simpler subproblems that can be solved independently.\n",
        "- **Efficient computation**: Storing solutions of subproblems to avoid redundant calculations (memoization in the top-down approach, tabulation in the bottom-up approach).\n",
        "\n",
        "By ensuring that a problem exhibits optimal substructure, dynamic programming techniques can be applied to efficiently find the optimal solution."
      ],
      "metadata": {
        "id": "NvXrARYnwAzs"
      }
    },
    {
      "cell_type": "markdown",
      "source": [
        "Optimal substructure is a key concept in dynamic programming where the optimal solution to a problem can be constructed from optimal solutions of its subproblems. Let's explore this concept with examples:\n",
        "\n",
        "### 1. Shortest Path Problem (Single-Source Shortest Path)\n",
        "\n",
        "**Problem**:\n",
        "Given a weighted graph \\( G \\) and a source vertex \\( s \\), find the shortest path from \\( s \\) to all other vertices in \\( G \\).\n",
        "\n",
        "**Optimal Substructure**:\n",
        "The shortest path from \\( s \\) to any vertex \\( v \\) can be constructed from the shortest paths to its adjacent vertices plus the edge weight from \\( v \\)'s parent in the shortest path tree.\n",
        "\n",
        "**Explanation**:\n",
        "- Let \\( d[v] \\) denote the shortest distance from \\( s \\) to vertex \\( v \\).\n",
        "- For each vertex \\( v \\), \\( d[v] \\) can be calculated as: \\( d[v] = \\min(d[u] + w(u, v)) \\), where \\( u \\) is a neighbor of \\( v \\) and \\( w(u, v) \\) is the weight of the edge between \\( u \\) and \\( v \\).\n",
        "\n",
        "**Example**:\n",
        "Consider the graph:\n",
        "\n",
        "```\n",
        "       4\n",
        "   (1)---(2)\n",
        "    | \\ / |\n",
        "    |  X  |\n",
        "    | / \\ |\n",
        "   (3)---(4)\n",
        "       3\n",
        "```\n",
        "\n",
        "- Starting from vertex 1, the shortest distances to other vertices are: \\( d[1] = 0 \\), \\( d[2] = 4 \\), \\( d[3] = 2 \\), \\( d[4] = 3 \\).\n",
        "- These distances are computed based on the optimal substructure property: the shortest path from 1 to any vertex is constructed from shortest paths to its adjacent vertices.\n",
        "\n",
        "**Application**:\n",
        "The Bellman-Ford algorithm and Dijkstra's algorithm both exploit the optimal substructure property to efficiently find the shortest paths in graphs.\n",
        "\n",
        "### 2. Rod Cutting Problem\n",
        "\n",
        "**Problem**:\n",
        "Given a rod of length \\( n \\) and a table of prices \\( p_i \\) for rods of length \\( i \\) (where \\( i \\) ranges from 1 to \\( n \\)), determine the maximum revenue that can be obtained by cutting and selling the rod.\n",
        "\n",
        "**Optimal Substructure**:\n",
        "The maximum revenue for a rod of length \\( n \\) can be obtained by considering all possible ways to cut the rod at different lengths and choosing the one that maximizes revenue.\n",
        "\n",
        "**Explanation**:\n",
        "- Let \\( r(n) \\) denote the maximum revenue for a rod of length \\( n \\).\n",
        "- \\( r(n) \\) can be calculated as: \\( r(n) = \\max(p_i + r(n-i)) \\), where \\( i \\) ranges from 1 to \\( n \\).\n",
        "\n",
        "**Example**:\n",
        "Consider a rod of length 4 with prices \\( p_1 = 2 \\), \\( p_2 = 5 \\), \\( p_3 = 7 \\), and \\( p_4 = 8 \\).\n",
        "\n",
        "- \\( r(4) \\) can be calculated as: \\( r(4) = \\max(2 + r(3), 5 + r(2), 7 + r(1), 8 + r(0)) \\).\n",
        "- This represents all possible ways to cut the rod and choose the one that maximizes revenue.\n",
        "\n",
        "**Application**:\n",
        "The rod cutting problem is a classic example of dynamic programming where optimal substructure is used to efficiently find the maximum revenue by considering all possible cuts.\n",
        "\n",
        "### Conclusion\n",
        "\n",
        "Optimal substructure is a fundamental property that allows us to break down complex problems into smaller subproblems and construct the optimal solution from the solutions of these subproblems. Dynamic programming algorithms leverage this property to efficiently solve a wide range of optimization problems."
      ],
      "metadata": {
        "id": "B4bFapbc9Mou"
      }
    },
    {
      "cell_type": "markdown",
      "source": [
        "Let's take the Rod Cutting Problem as an example and implement it in Python, explaining how it exhibits optimal substructure.\n",
        "\n",
        "Rod Cutting Problem\n",
        "Problem Statement:\n",
        "Given a rod of length n and a table of prices 𝑝𝑖 for rods of length 𝑖(where 𝑖 ranges from 1 to 𝑛), determine the maximum revenue that can be obtained by cutting and selling the rod.\n",
        "\n",
        "Optimal Substructure:\n",
        "The maximum revenue for a rod of length 𝑛 can be obtained by considering all possible ways to cut the rod at different lengths and choosing the one that maximizes revenue."
      ],
      "metadata": {
        "id": "cT66LVVb9Zyj"
      }
    },
    {
      "cell_type": "code",
      "source": [
        "def rod_cutting(n, prices):\n",
        "    memo = {}  # Memoization table to store computed values\n",
        "\n",
        "    def max_revenue(length):\n",
        "        if length in memo:\n",
        "            return memo[length]\n",
        "        if length == 0:\n",
        "            return 0\n",
        "        max_val = float('-inf')\n",
        "        for i in range(1, length + 1):\n",
        "            max_val = max(max_val, prices[i] + max_revenue(length - i))\n",
        "        memo[length] = max_val\n",
        "        return max_val\n",
        "\n",
        "    return max_revenue(n)\n",
        "\n",
        "# Example usage\n",
        "prices = [0, 2, 5, 7, 8]  # Prices for rods of length 1 to 4\n",
        "rod_length = 4\n",
        "max_revenue = rod_cutting(rod_length, prices)\n",
        "print(\"Maximum revenue:\", max_revenue)\n"
      ],
      "metadata": {
        "colab": {
          "base_uri": "https://localhost:8080/"
        },
        "id": "oNu7VRp99xTX",
        "outputId": "fd27e2e7-5708-4b93-a6b2-b8172e9fb7cb"
      },
      "execution_count": 2,
      "outputs": [
        {
          "output_type": "stream",
          "name": "stdout",
          "text": [
            "Maximum revenue: 10\n"
          ]
        }
      ]
    },
    {
      "cell_type": "markdown",
      "source": [
        "\n",
        "**Explanation**:\n",
        "\n",
        "1. The `rod_cutting` function takes the length of the rod (`n`) and a list of prices (`prices`) as input.\n",
        "2. Inside `rod_cutting`, we define a nested function `max_revenue(length)` to compute the maximum revenue for a rod of length `length`.\n",
        "3. We use memoization to avoid redundant computations. The `memo` dictionary stores the maximum revenue for each rod length that has been computed.\n",
        "4. The `max_revenue` function computes the maximum revenue recursively. It considers all possible ways to cut the rod and chooses the one that maximizes revenue.\n",
        "5. The base case is when the rod length is 0, in which case the revenue is 0.\n",
        "6. We iterate over all possible lengths to cut the rod (`i` ranges from 1 to `length`). For each cut, we compute the revenue by adding the price of the cut and the maximum revenue for the remaining length of the rod.\n",
        "7. Finally, we return the maximum revenue for the given rod length.\n",
        "\n",
        "**Example**:\n",
        "For the example with `prices = [0, 2, 5, 7, 8]` and `rod_length = 4`, the maximum revenue is calculated recursively as follows:\n",
        "max_revenue(4) = max(2 + max_revenue(3), 5 + max_revenue(2), 7 + max_revenue(1), 8 + max_revenue(0))\n",
        "- The function recursively computes the maximum revenue for each possible cut and returns the maximum value.\n",
        "\n",
        "This example demonstrates how the rod cutting problem exhibits optimal substructure, as the optimal solution for the entire rod can be constructed from the optimal solutions of its subproblems (i.e., cutting shorter lengths of the rod). The use of memoization ensures that each subproblem is solved only once, reducing redundant computations and improving efficiency."
      ],
      "metadata": {
        "id": "hWjP1jUf94LJ"
      }
    },
    {
      "cell_type": "markdown",
      "source": [
        "Coin Change Problem\n",
        "\n",
        "Problem Statement:\n",
        "\n",
        "Given a set of coins with denominations [1, 5, 10, 25] (representing 1 cent, 5 cents, 10 cents, and 25 cents), and a target amount, find the minimum number of coins required to make up that amount.\n",
        "\n",
        "Optimal Substructure:\n",
        "\n",
        "The minimum number of coins required to make up a target amount can be calculated recursively by considering all possible choices of coins and choosing the one that minimizes the number of coins required."
      ],
      "metadata": {
        "id": "gZ73yptGDd3U"
      }
    },
    {
      "cell_type": "code",
      "source": [
        "def min_coins(coins, target, memo={}):\n",
        "    if target in memo:\n",
        "        return memo[target]\n",
        "    if target == 0:\n",
        "        return 0\n",
        "    min_count = float('inf')\n",
        "    for coin in coins:\n",
        "        if target - coin >= 0:\n",
        "            count = 1 + min_coins(coins, target - coin, memo)\n",
        "            min_count = min(min_count, count)\n",
        "    memo[target] = min_count\n",
        "    return min_count\n",
        "\n",
        "# Example usage\n",
        "coins = [1, 5, 10, 25]\n",
        "target_amount = 63\n",
        "min_num_coins = min_coins(coins, target_amount)\n",
        "print(\"Minimum number of coins required:\", min_num_coins)\n"
      ],
      "metadata": {
        "colab": {
          "base_uri": "https://localhost:8080/"
        },
        "id": "ZmTRGrWYDjiT",
        "outputId": "a44d6187-1cb3-4941-bf17-bf252a9deffb"
      },
      "execution_count": 3,
      "outputs": [
        {
          "output_type": "stream",
          "name": "stdout",
          "text": [
            "Minimum number of coins required: 6\n"
          ]
        }
      ]
    },
    {
      "cell_type": "markdown",
      "source": [
        "Explanation:\n",
        "\n",
        "The min_coins function takes a list of coin denominations (coins), a target amount (target), and an optional memoization dictionary (memo) to store computed results.\n",
        "\n",
        "If the target amount is already computed and stored in the memoization table, we return it immediately to avoid redundant computation.\n",
        "If the target amount is 0, we return 0 as no coins are required to make up the amount.\n",
        "\n",
        "We iterate over each coin denomination. For each coin, we check if using that coin doesn't exceed the target amount. If it doesn't, we recursively calculate the minimum number of coins required for the remaining amount.\n",
        "We take the minimum of all these counts and add 1 (representing the current coin) to get the minimum number of coins required for the current target amount.\n",
        "\n",
        "We memoize the result and return it.\n",
        "\n",
        "Example usage demonstrates how to find the minimum number of coins required to make up a target amount (e.g., 63 cents) using the provided denominations.\n",
        "\n",
        "This implementation efficiently solves the Coin Change Problem by recursively considering all possible coin choices and memoizing the results to avoid redundant computations. It illustrates the optimal substructure property, where the optimal solution for the entire problem can be constructed from the optimal solutions of its subproblems."
      ],
      "metadata": {
        "id": "zwaO_c6WDoIL"
      }
    },
    {
      "cell_type": "markdown",
      "source": [
        "Longest Common Subsequence (LCS) Problem\n",
        "\n",
        "Problem Statement:\n",
        "\n",
        "Given two sequences (strings) s1 and s2, find the length of the longest subsequence that is common to both sequences.\n",
        "\n",
        "Optimal Substructure:\n",
        "The length of the longest common subsequence between two sequences can be calculated recursively by considering all possible choices of characters and choosing the one that maximizes the length of the subsequence."
      ],
      "metadata": {
        "id": "2IeoQm-KEYSB"
      }
    },
    {
      "cell_type": "code",
      "source": [
        "def longest_common_subsequence(s1, s2, memo={}):\n",
        "    if (s1, s2) in memo:\n",
        "        return memo[(s1, s2)]\n",
        "    if not s1 or not s2:\n",
        "        return 0\n",
        "    if s1[-1] == s2[-1]:\n",
        "        memo[(s1, s2)] = 1 + longest_common_subsequence(s1[:-1], s2[:-1], memo)\n",
        "    else:\n",
        "        memo[(s1, s2)] = max(longest_common_subsequence(s1[:-1], s2, memo),\n",
        "                              longest_common_subsequence(s1, s2[:-1], memo))\n",
        "    return memo[(s1, s2)]\n",
        "\n",
        "# Example usage\n",
        "s1 = \"abcde\"\n",
        "s2 = \"ace\"\n",
        "lcs_length = longest_common_subsequence(s1, s2)\n",
        "print(\"Length of Longest Common Subsequence:\", lcs_length)\n"
      ],
      "metadata": {
        "colab": {
          "base_uri": "https://localhost:8080/"
        },
        "id": "xhVRFTV_EeH_",
        "outputId": "5a66cd14-47af-4586-9d1d-6516aacd421a"
      },
      "execution_count": 4,
      "outputs": [
        {
          "output_type": "stream",
          "name": "stdout",
          "text": [
            "Length of Longest Common Subsequence: 3\n"
          ]
        }
      ]
    },
    {
      "cell_type": "markdown",
      "source": [
        "\n",
        "**Explanation**:\n",
        "1. The `longest_common_subsequence` function takes two sequences `s1` and `s2`, and an optional memoization dictionary `memo` to store computed results.\n",
        "2. If the current combination of sequences `s1` and `s2` is already computed and stored in the memoization table, we return it immediately to avoid redundant computation.\n",
        "3. If either `s1` or `s2` is empty (base case), the length of the longest common subsequence is 0.\n",
        "4. If the last characters of `s1` and `s2` are the same, they are part of the longest common subsequence. We recursively calculate the length of the LCS for `s1[:-1]` and `s2[:-1]` and add 1 to it.\n",
        "5. If the last characters are different, we consider two cases: either the last character of `s1` is part of the LCS and `s2` is shortened, or vice versa. We take the maximum of these two cases.\n",
        "6. We memoize the result for the current combination of sequences and return it.\n",
        "7. Example usage demonstrates how to find the length of the longest common subsequence between two given sequences (e.g., \"abcde\" and \"ace\").\n",
        "\n",
        "This implementation efficiently solves the Longest Common Subsequence (LCS) Problem by recursively considering all possible choices of characters and memoizing the results to avoid redundant computations. It illustrates the optimal substructure property, where the optimal solution for the entire problem can be constructed from the optimal solutions of its subproblems."
      ],
      "metadata": {
        "id": "SAkTDEZ_EinQ"
      }
    },
    {
      "cell_type": "markdown",
      "source": [
        "0/1 Knapsack Problem\n",
        "Problem Statement:\n",
        "Given a set of items, where each item has a weight 𝑤𝑖 and a value 𝑣𝑖, and a knapsack with a maximum capacity 𝑊, find the maximum total value of items that can be included in the knapsack without exceeding its capacity.\n",
        "\n",
        "Optimal Substructure:\n",
        "The maximum total value of items that can be included in the knapsack can be calculated recursively by considering all possible choices of items and choosing the one that maximizes the total value, while ensuring that the weight constraint is not violated."
      ],
      "metadata": {
        "id": "MJ9_nxMHE0Ax"
      }
    },
    {
      "cell_type": "code",
      "source": [
        "def knapsack(weights, values, capacity, n, memo={}):\n",
        "    if n == 0 or capacity == 0:\n",
        "        return 0\n",
        "    if (n, capacity) in memo:\n",
        "        return memo[(n, capacity)]\n",
        "    if weights[n-1] > capacity:\n",
        "        memo[(n, capacity)] = knapsack(weights, values, capacity, n-1, memo)\n",
        "        return memo[(n, capacity)]\n",
        "    else:\n",
        "        include_item = values[n-1] + knapsack(weights, values, capacity - weights[n-1], n-1, memo)\n",
        "        exclude_item = knapsack(weights, values, capacity, n-1, memo)\n",
        "        memo[(n, capacity)] = max(include_item, exclude_item)\n",
        "        return memo[(n, capacity)]\n",
        "\n",
        "# Example usage\n",
        "weights = [2, 3, 4, 5]\n",
        "values = [3, 4, 5, 6]\n",
        "capacity = 5\n",
        "max_value = knapsack(weights, values, capacity, len(weights))\n",
        "print(\"Maximum value of items in knapsack:\", max_value)\n"
      ],
      "metadata": {
        "colab": {
          "base_uri": "https://localhost:8080/"
        },
        "id": "fhbDqdNWE_bR",
        "outputId": "2a9f122b-514f-4a85-8970-ee63f302e4a7"
      },
      "execution_count": 5,
      "outputs": [
        {
          "output_type": "stream",
          "name": "stdout",
          "text": [
            "Maximum value of items in knapsack: 7\n"
          ]
        }
      ]
    },
    {
      "cell_type": "markdown",
      "source": [
        "\n",
        "**Explanation**:\n",
        "1. The `knapsack` function takes lists of item weights (`weights`) and values (`values`), the knapsack capacity (`capacity`), the number of items (`n`), and an optional memoization dictionary `memo` to store computed results.\n",
        "2. If there are no items left to consider (`n == 0`) or the capacity of the knapsack is 0, the value is 0.\n",
        "3. If the current combination of items and capacity is already computed and stored in the memoization table, we return it immediately to avoid redundant computation.\n",
        "4. If the weight of the current item is greater than the remaining capacity of the knapsack, we cannot include the item, so we recursively call `knapsack` with the previous item.\n",
        "5. If the weight of the current item is less than or equal to the remaining capacity of the knapsack, we have two choices: include the item and subtract its weight from the capacity, or exclude the item and move to the next item.\n",
        "6. We memoize the result for the current combination of items and capacity and return it.\n",
        "7. Example usage demonstrates how to find the maximum total value of items that can be included in the knapsack without exceeding its capacity.\n",
        "\n",
        "This implementation efficiently solves the 0/1 Knapsack Problem by recursively considering all possible choices of items and memoizing the results to avoid redundant computations. It illustrates the optimal substructure property, where the optimal solution for the entire problem can be constructed from the optimal solutions of its subproblems."
      ],
      "metadata": {
        "id": "9FSNFhlNFEYM"
      }
    },
    {
      "cell_type": "markdown",
      "source": [
        "### Overlapping Subproblems in Dynamic Programming\n",
        "\n",
        "**Definition**:\n",
        "Overlapping subproblems is a property of a problem where smaller subproblems recur multiple times during the computation. Dynamic programming takes advantage of this property by solving each subproblem once and storing its result, thereby avoiding redundant calculations and significantly improving efficiency.\n",
        "\n",
        "### Detailed Explanation\n",
        "\n",
        "In problems that exhibit overlapping subproblems, the naive recursive solution repeatedly solves the same subproblems, leading to inefficiency. Dynamic programming (DP) addresses this by using two main techniques: memoization and tabulation.\n",
        "\n",
        "#### Techniques to Handle Overlapping Subproblems\n",
        "\n",
        "1. **Memoization (Top-Down Approach)**:\n",
        "   - This approach involves recursively breaking down the problem and storing the results of subproblems in a memoization table (usually a hash table or array).\n",
        "   - When a subproblem is encountered again, the stored result is used instead of recomputing it.\n",
        "\n",
        "2. **Tabulation (Bottom-Up Approach)**:\n",
        "   - This approach involves iteratively solving the smallest subproblems first and using their results to build up solutions to larger subproblems.\n",
        "   - Results are stored in a table, and the final solution to the original problem is built by filling this table from the bottom up.\n",
        "\n",
        "### Examples of Overlapping Subproblems\n",
        "\n",
        "1. **Fibonacci Sequence**:\n",
        "   - **Problem**: Compute the nth Fibonacci number.\n",
        "   - **Naive Recursive Solution**: \\( F(n) = F(n-1) + F(n-2) \\).\n",
        "   - **Overlapping Subproblems**: Calculating \\( F(n) \\) involves repeatedly calculating \\( F(n-1) \\) and \\( F(n-2) \\), and so on. For example, \\( F(5) \\) requires \\( F(4) \\) and \\( F(3) \\), and \\( F(4) \\) again requires \\( F(3) \\) and \\( F(2) \\), making \\( F(3) \\) calculated multiple times.\n",
        "   - **DP Solution**: By storing results in a table (memoization or tabulation), each Fibonacci number is computed only once.\n",
        "\n",
        "2. **Longest Common Subsequence (LCS)**:\n",
        "   - **Problem**: Find the longest common subsequence between two strings.\n",
        "   - **Recursive Solution**:\n",
        "     \\[\n",
        "     LCS(X[1..m], Y[1..n]) =\n",
        "     \\begin{cases}\n",
        "     LCS(X[1..m-1], Y[1..n-1]) + 1 & \\text{if } X[m] = Y[n] \\\\\n",
        "     \\max(LCS(X[1..m-1], Y[1..n]), LCS(X[1..m], Y[1..n-1])) & \\text{if } X[m] \\ne Y[n]\n",
        "     \\end{cases}\n",
        "     \\]\n",
        "   - **Overlapping Subproblems**: Subproblems like \\( LCS(X[1..m-1], Y[1..n-1]) \\) are solved multiple times for different parts of the sequences.\n",
        "   - **DP Solution**: Use a table to store the results of subproblems \\( LCS(i, j) \\), where \\( i \\) and \\( j \\) are lengths of prefixes of \\( X \\) and \\( Y \\).\n",
        "\n",
        "3. **0/1 Knapsack Problem**:\n",
        "   - **Problem**: Maximize the total value of items in a knapsack without exceeding its weight capacity.\n",
        "   - **Recursive Solution**:\n",
        "     \\[\n",
        "     K(i, w) =\n",
        "     \\begin{cases}\n",
        "     K(i-1, w) & \\text{if } w_i > w \\\\\n",
        "     \\max(K(i-1, w), v_i + K(i-1, w - w_i)) & \\text{if } w_i \\le w\n",
        "     \\end{cases}\n",
        "     \\]\n",
        "   - **Overlapping Subproblems**: Calculating the value for a given item and capacity combination involves the same subproblems repeatedly, like \\( K(i-1, w) \\) and \\( K(i-1, w - w_i) \\).\n",
        "   - **DP Solution**: Use a table to store results of subproblems for each item and capacity combination.\n",
        "\n",
        "### Importance of Overlapping Subproblems in Dynamic Programming\n",
        "\n",
        "1. **Efficiency**:\n",
        "   - Reduces time complexity from exponential to polynomial by avoiding redundant calculations.\n",
        "   - Transforms a brute-force recursive solution into an efficient algorithm by storing and reusing results.\n",
        "\n",
        "2. **Resource Optimization**:\n",
        "   - Uses extra memory to store results (space complexity) to achieve significant improvements in computational time.\n",
        "   - Makes previously infeasible problems solvable within reasonable time limits.\n",
        "\n",
        "3. **Systematic Approach**:\n",
        "   - Provides a clear and systematic method for problem-solving, ensuring that all subproblems are solved and combined correctly.\n",
        "   - Enhances understanding of problem structure by decomposing it into smaller, manageable subproblems.\n",
        "\n",
        "### Recap\n",
        "\n",
        "Overlapping subproblems are a fundamental aspect of dynamic programming that enable the efficient solving of complex problems by reusing solutions to smaller subproblems. Recognizing and exploiting this property through memoization and tabulation leads to significant performance gains and enables the practical application of dynamic programming to a wide range of problems."
      ],
      "metadata": {
        "id": "NnNnOly_38Tx"
      }
    },
    {
      "cell_type": "markdown",
      "source": [
        "### Top-Down Approach in Dynamic Programming (Memoization)\n",
        "\n",
        "The top-down approach, also known as memoization, involves solving the problem recursively while storing the results of subproblems to avoid redundant calculations. This approach is particularly useful for problems that have overlapping subproblems and optimal substructure properties.\n",
        "\n",
        "#### Key Concepts\n",
        "\n",
        "1. **Recursive Problem Breakdown**:\n",
        "   - The problem is recursively broken down into smaller subproblems.\n",
        "   - Each subproblem is defined in terms of the same problem with smaller input.\n",
        "\n",
        "2. **Memoization**:\n",
        "   - A data structure (typically a dictionary or an array) is used to store the results of subproblems.\n",
        "   - Before solving a subproblem, the algorithm checks if the result is already in the memoization table.\n",
        "   - If the result is found in the table, it is returned immediately (a cache hit), avoiding the need for recomputation.\n",
        "   - If the result is not found, the subproblem is solved, and the result is stored in the table for future use (a cache miss).\n",
        "\n",
        "#### Steps to Implement the Top-Down Approach\n",
        "\n",
        "1. **Define the Recursive Function**:\n",
        "   - Write a recursive function that solves the problem by breaking it down into smaller subproblems.\n",
        "   - Ensure the function handles the base cases properly.\n",
        "\n",
        "2. **Create a Memoization Table**:\n",
        "   - Initialize a data structure (dictionary or array) to store the results of subproblems.\n",
        "\n",
        "3. **Modify the Recursive Function to Use Memoization**:\n",
        "   - Before solving a subproblem, check if the result is already in the memoization table.\n",
        "   - If the result is in the table, return it immediately.\n",
        "   - If not, compute the result, store it in the table, and then return it.\n",
        "\n",
        "#### Detailed Example: Fibonacci Sequence\n",
        "\n",
        "The Fibonacci sequence is a classic example to illustrate the top-down approach with memoization.\n",
        "\n",
        "**Problem**:\n",
        "Compute the nth Fibonacci number, where:\n",
        "\\[ F(n) = \\begin{cases}\n",
        "0 & \\text{if } n = 0 \\\\\n",
        "1 & \\text{if } n = 1 \\\\\n",
        "F(n-1) + F(n-2) & \\text{if } n > 1\n",
        "\\end{cases} \\]\n",
        "\n",
        "**Naive Recursive Approach**:\n",
        "Without memoization, the naive recursive solution recalculates Fibonacci numbers multiple times, leading to exponential time complexity.\n",
        "\n",
        "**Memoized Top-Down Approach**:\n",
        "1. **Recursive Function Definition**:\n",
        "   ```python\n",
        "   def fib(n):\n",
        "       if n <= 1:\n",
        "           return n\n",
        "       return fib(n-1) + fib(n-2)\n",
        "   ```\n",
        "\n",
        "2. **Create Memoization Table**:\n",
        "   ```python\n",
        "   memo = {}\n",
        "   ```\n",
        "\n",
        "3. **Modified Recursive Function with Memoization**:\n",
        "   ```python\n",
        "   def fib(n, memo={}):\n",
        "       if n in memo:\n",
        "           return memo[n]\n",
        "       if n <= 1:\n",
        "           return n\n",
        "       memo[n] = fib(n-1, memo) + fib(n-2, memo)\n",
        "       return memo[n]\n",
        "   ```\n",
        "\n",
        "**Explanation**:\n",
        "- The `fib` function checks if `n` is in `memo`. If it is, it returns `memo[n]` (cache hit).\n",
        "- If `n` is not in `memo`, the function computes `fib(n-1) + fib(n-2)`, stores the result in `memo[n]`, and returns it (cache miss).\n",
        "\n",
        "**Efficiency**:\n",
        "- **Time Complexity**: \\( O(n) \\) due to storing and reusing results.\n",
        "- **Space Complexity**: \\( O(n) \\) for the memoization table.\n",
        "\n",
        "### Applications of Top-Down Approach\n",
        "\n",
        "The top-down approach with memoization is applicable to a wide range of problems beyond the Fibonacci sequence. Here are some common examples:\n",
        "\n",
        "1. **0/1 Knapsack Problem**:\n",
        "   - **Problem**: Maximize the value of items that can be put into a knapsack of fixed capacity.\n",
        "   - **Recursive Definition**: Use a recursive function to decide whether to include or exclude each item, and store the results of subproblems in a memoization table to avoid redundant calculations.\n",
        "\n",
        "2. **Longest Common Subsequence (LCS)**:\n",
        "   - **Problem**: Find the longest common subsequence between two strings.\n",
        "   - **Recursive Definition**: Define a recursive function that compares the last characters of the strings and recursively solves for smaller subsequences. Store results of subproblems in a memoization table.\n",
        "\n",
        "3. **Matrix Chain Multiplication**:\n",
        "   - **Problem**: Find the optimal way to parenthesize a sequence of matrix multiplications to minimize the number of scalar multiplications.\n",
        "   - **Recursive Definition**: Use a recursive function to determine the minimum cost of multiplying matrices from `i` to `j`. Store intermediate results in a memoization table.\n",
        "\n",
        "### Advantages and Disadvantages of the Top-Down Approach\n",
        "\n",
        "**Advantages**:\n",
        "- **Simplicity**: The recursive nature of the top-down approach can be more intuitive for problems that naturally fit a recursive formulation.\n",
        "- **Ease of Implementation**: Often easier to implement and understand, especially for problems with a clear recursive structure.\n",
        "- **On-Demand Computation**: Only computes subproblems that are actually needed, which can save computation in certain cases.\n",
        "\n",
        "**Disadvantages**:\n",
        "- **Stack Overflow**: The recursion depth may lead to stack overflow for very deep recursions if the problem size is large.\n",
        "- **Overhead**: The function call overhead may be significant if the recursion depth is large.\n",
        "- **Memory Usage**: Memoization table can consume significant memory if there are many unique subproblems.\n",
        "\n",
        "### Practical Considerations\n",
        "\n",
        "1. **Choosing Memoization Table**:\n",
        "   - Use a dictionary when the subproblem indices are not continuous or can be large.\n",
        "   - Use an array for simpler indexing when the range of indices is known and manageable.\n",
        "\n",
        "2. **Initialization**:\n",
        "   - Initialize the memoization table appropriately, considering whether default values or special cases are needed.\n",
        "\n",
        "3. **Space Optimization**:\n",
        "   - For some problems, it is possible to optimize space usage by only storing results of necessary subproblems.\n",
        "\n",
        "By following these principles and understanding the underlying mechanics, the top-down approach with memoization can be a powerful tool for solving a wide variety of dynamic programming problems efficiently."
      ],
      "metadata": {
        "id": "xbL7eLjR42pR"
      }
    },
    {
      "cell_type": "markdown",
      "source": [
        "Let's start with a deeper exploration of **advanced memoization\n",
        "### Advanced Memoization Techniques\n",
        "\n",
        "Memoization, while powerful, can be further optimized and extended to handle various scenarios and problem types more efficiently. Here are some advanced techniques to consider:\n",
        "\n",
        "1. **Memoization with Multiple Arguments**:\n",
        "   - Extend memoization to handle functions with multiple arguments. Each unique combination of arguments can be used as a key in the memoization table.\n",
        "   - Example: In a problem involving two parameters \\( n \\) and \\( m \\), the memoization table can be indexed by a tuple \\( (n, m) \\) to store and retrieve results efficiently.\n",
        "\n",
        "2. **Memoization with Bitmask for State Compression**:\n",
        "   - Use bitmasks to represent the state of a problem, especially in combinatorial optimization problems where the state space is large.\n",
        "   - Example: In the traveling salesman problem (TSP), instead of storing results for all possible combinations of visited cities, use a bitmask to represent which cities have been visited.\n",
        "\n",
        "3. **Memoization with Bottom-Up Initialization**:\n",
        "   - Initialize the memoization table with known base cases or values before starting the recursive computation. This can save time by avoiding unnecessary recursive calls for base cases.\n",
        "   - Example: In a problem where the base cases are known (e.g., Fibonacci sequence with \\( F(0) = 0 \\) and \\( F(1) = 1 \\)), pre-fill the memoization table with these values before starting the recursive computation.\n",
        "\n",
        "4. **Memoization with Custom Data Structures**:\n",
        "   - Use custom data structures in the memoization table to store additional information or optimize memory usage.\n",
        "   - Example: In problems involving graphs or trees, store additional information such as parent pointers, distances, or other relevant attributes alongside the computed results.\n",
        "\n",
        "5. **Memoization with Memoization Helpers**:\n",
        "   - Use helper functions or decorators to encapsulate memoization logic and reduce boilerplate code in recursive functions.\n",
        "   - Example: Define a memoization decorator that can be applied to recursive functions to automatically cache results.\n",
        "\n",
        "6. **Memoization with Cache Eviction Policies**:\n",
        "   - Implement cache eviction policies to manage the size of the memoization table and prioritize frequently accessed or recently computed results.\n",
        "   - Example: Use techniques like least recently used (LRU) or least frequently used (LFU) cache eviction policies to remove least-used entries from the memoization table.\n",
        "\n",
        "### Advantages and Use Cases\n",
        "\n",
        "- **Improved Efficiency**: These advanced memoization techniques can further optimize the performance of recursive algorithms by reducing redundant computations and memory usage.\n",
        "- **Scalability**: Handling larger problem instances or complex state spaces becomes more manageable with these techniques, allowing for efficient computation even with challenging inputs.\n",
        "- **Versatility**: These techniques can be applied to a wide range of dynamic programming problems, from simple numerical sequences to complex combinatorial optimization and graph algorithms.\n",
        "\n",
        "By understanding and applying these advanced memoization techniques, you can unlock even greater potential in solving dynamic programming problems efficiently and effectively."
      ],
      "metadata": {
        "id": "_Q5bMHq674sr"
      }
    },
    {
      "cell_type": "markdown",
      "source": [
        "1. Simple Memoization Concept:\n",
        "\n",
        "Simple memoization involves storing the results of expensive function calls and returning the cached result when the same inputs occur again. This technique is effective for reducing redundant computations in recursive algorithms.\n",
        "\n",
        "Example: Fibonacci Sequence\n",
        "\n",
        "The Fibonacci sequence is a classic example to illustrate simple memoization."
      ],
      "metadata": {
        "id": "OhdyGQjL8X3D"
      }
    },
    {
      "cell_type": "code",
      "execution_count": 1,
      "metadata": {
        "colab": {
          "base_uri": "https://localhost:8080/"
        },
        "id": "ZquwSbZQm4Dv",
        "outputId": "b57872b5-b902-419f-a6bf-e873d47d2b58"
      },
      "outputs": [
        {
          "output_type": "stream",
          "name": "stdout",
          "text": [
            "55\n"
          ]
        }
      ],
      "source": [
        "def fib(n, memo={}):\n",
        "    if n in memo:\n",
        "        return memo[n]\n",
        "    if n <= 1:\n",
        "        return n\n",
        "    memo[n] = fib(n-1, memo) + fib(n-2, memo)\n",
        "    return memo[n]\n",
        "print(fib(10))  # Output: 55\n"
      ]
    },
    {
      "cell_type": "markdown",
      "source": [
        "Explanation:\n",
        "\n",
        "The fib function calculates the nth Fibonacci number recursively.\n",
        "It checks if the result for n is already in the memoization table (memo). If found, it returns the cached result immediately.\n",
        "If the result is not cached, it recursively computes the Fibonacci numbers for n-1 and n-2, stores the result in the memoization table, and returns it.\n",
        "\n",
        "Advantages:\n",
        "\n",
        "Reduces time complexity by avoiding redundant calculations.\n",
        "Improves the efficiency of recursive algorithms with overlapping subproblems."
      ],
      "metadata": {
        "id": "9yDXKr3y8lZY"
      }
    },
    {
      "cell_type": "code",
      "source": [],
      "metadata": {
        "id": "KXemdR2N8flB"
      },
      "execution_count": null,
      "outputs": []
    }
  ]
}
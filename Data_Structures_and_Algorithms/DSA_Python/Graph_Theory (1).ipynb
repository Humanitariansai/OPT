{
  "nbformat": 4,
  "nbformat_minor": 0,
  "metadata": {
    "colab": {
      "provenance": []
    },
    "kernelspec": {
      "name": "python3",
      "display_name": "Python 3"
    },
    "language_info": {
      "name": "python"
    }
  },
  "cells": [
    {
      "cell_type": "code",
      "execution_count": null,
      "metadata": {
        "id": "gIae1BVSDw2N"
      },
      "outputs": [],
      "source": []
    },
    {
      "cell_type": "markdown",
      "source": [
        "Graph theory is a branch of mathematics and computer science that studies the properties and applications of graphs. A graph is a collection of vertices (or nodes) and edges (or arcs) that connect pairs of vertices. Graphs can be used to model a wide variety of systems in physical, biological, social, and information sciences."
      ],
      "metadata": {
        "id": "YNLkeNA7EIvq"
      }
    },
    {
      "cell_type": "markdown",
      "source": [
        "### Key Concepts in Graph Theory"
      ],
      "metadata": {
        "id": "8gPUpTafEQER"
      }
    },
    {
      "cell_type": "markdown",
      "source": [
        "1. Vertices (Nodes):\n",
        "Vertices are the fundamental units of a graph. They represent entities such as cities in a road network, computers in a communication network, or individuals in a social network.\n",
        "\n"
      ],
      "metadata": {
        "id": "OnQO34leEX0P"
      }
    },
    {
      "cell_type": "markdown",
      "source": [
        "2. Edges (Links):\n",
        "Edges connect pairs of vertices and can be:\n",
        "\n",
        "**Directed:** Have a direction, indicating a one-way relationship (e.g., a\n",
        "one-way street).\n",
        "\n",
        "**Undirected:** No direction, indicating a mutual relationship (e.g., a bidirectional road).\n",
        "\n",
        "**Weighted:** Have an associated weight (e.g., distance, cost, or capacity).\n",
        "\n",
        "**Unweighted:** No associated weight.\n",
        "\n",
        "\n",
        "\n",
        "\n",
        "\n",
        "\n"
      ],
      "metadata": {
        "id": "XMHDZtwHEo8R"
      }
    },
    {
      "cell_type": "markdown",
      "source": [
        "3. Graph Representations:\n",
        "Graphs can be represented in several ways:\n",
        "\n",
        "**Adjacency List:** Each vertex has a list of all its adjacent vertices."
      ],
      "metadata": {
        "id": "n6VPdyEsE2WO"
      }
    },
    {
      "cell_type": "code",
      "source": [
        "graph = {\n",
        "    'A': [('B', 1), ('C', 4)],\n",
        "    'B': [('A', 1), ('C', 2), ('D', 5)],\n",
        "    'C': [('A', 4), ('B', 2), ('D', 1)],\n",
        "    'D': [('B', 5), ('C', 1)]\n",
        "}\n"
      ],
      "metadata": {
        "id": "q_ol8dN3EJlh"
      },
      "execution_count": 1,
      "outputs": []
    },
    {
      "cell_type": "markdown",
      "source": [
        "**Adjacency Matrix:** A 2D array where matrix[i][j] represents the presence and weight of an edge from vertex i to vertex j."
      ],
      "metadata": {
        "id": "_shUaE3WE_lV"
      }
    },
    {
      "cell_type": "code",
      "source": [
        "matrix = [\n",
        "    [0, 1, 4, 0],\n",
        "    [1, 0, 2, 5],\n",
        "    [4, 2, 0, 1],\n",
        "    [0, 5, 1, 0]\n",
        "]\n"
      ],
      "metadata": {
        "id": "c6_gVT88E7y_"
      },
      "execution_count": 2,
      "outputs": []
    },
    {
      "cell_type": "markdown",
      "source": [
        "**Edge List :** A list of edges represented as tuples of vertices and weights."
      ],
      "metadata": {
        "id": "yYMMUN9kFGnq"
      }
    },
    {
      "cell_type": "code",
      "source": [
        "edges = [\n",
        "    ('A', 'B', 1),\n",
        "    ('A', 'C', 4),\n",
        "    ('B', 'C', 2),\n",
        "    ('B', 'D', 5),\n",
        "    ('C', 'D', 1)\n",
        "]\n"
      ],
      "metadata": {
        "id": "qi8EmXuhFEG6"
      },
      "execution_count": 3,
      "outputs": []
    },
    {
      "cell_type": "markdown",
      "source": [
        "4. Types of Graphs:\n",
        "**Simple Graphs:** No loops or multiple edges.\n",
        "\n",
        "**Multi-graphs:** May have multiple edges between the same set of vertices.\n",
        "\n",
        "**Complete Graphs:** Every pair of vertices is connected by a unique edge.\n",
        "\n",
        "**Bipartite Graphs:** Vertices can be divided into two disjoint sets such that every edge connects a vertex in one set to a vertex in the other set.\n",
        "\n",
        "**Directed Acyclic Graphs (DAGs):** Directed graphs with no cycles. Useful for representing tasks with dependencies."
      ],
      "metadata": {
        "id": "yqLuRCv6FOz4"
      }
    },
    {
      "cell_type": "markdown",
      "source": [
        "5. Paths and Cycles:\n",
        "**Path:** A sequence of vertices connected by edges.\n",
        "\n",
        "**Simple Path:** No vertex is repeated.\n",
        "\n",
        "**Cycle:** A path that starts and ends at the same vertex without repeating any edges or vertices (except for the starting/ending vertex)."
      ],
      "metadata": {
        "id": "7dAtAQiUFeht"
      }
    },
    {
      "cell_type": "markdown",
      "source": [
        "6. Connectivity :\n",
        "**Connected Graph:** There's a path between every pair of vertices.\n",
        "\n",
        "**Disconnected Graph:** Some vertices are not reachable from others.\n",
        "\n",
        "**Strongly Connected (for directed graphs):** There's a path from every vertex to every other vertex.\n",
        "\n",
        "**Weakly Connected (for directed graphs):** The graph is connected when considered as an undirected graph."
      ],
      "metadata": {
        "id": "VKmRxgXHFlQG"
      }
    },
    {
      "cell_type": "markdown",
      "source": [
        "7. Degree of a Vertex:\n",
        "**Degree:** The number of edges connected to a vertex.\n",
        "\n",
        "**In-degree:** Number of incoming edges (for directed graphs).\n",
        "\n",
        "**Out-degree:** Number of outgoing edges (for directed graphs).\n"
      ],
      "metadata": {
        "id": "u93YzAJbFyoW"
      }
    },
    {
      "cell_type": "markdown",
      "source": [
        "8. Subgraphs:\n",
        "A subgraph is a subset of a graph's vertices and edges."
      ],
      "metadata": {
        "id": "cufJd7GkF3lL"
      }
    },
    {
      "cell_type": "markdown",
      "source": [
        "9. Trees:\n",
        "\n",
        "A special type of graph that is connected and acyclic. Trees have:\n",
        "\n",
        "**Root:** The top node.\n",
        "\n",
        "**Leaf Nodes:** Nodes with no children.\n",
        "\n",
        "**Height:** The length of the longest path from the root to a leaf."
      ],
      "metadata": {
        "id": "keS3kKKzF8gS"
      }
    },
    {
      "cell_type": "markdown",
      "source": [
        "### Graph Algorithms"
      ],
      "metadata": {
        "id": "9hpsTXuCHSSL"
      }
    },
    {
      "cell_type": "markdown",
      "source": [
        "We'll explore various graph algorithms in depth, focusing on their theory, use cases, and Python implementations. Here are some of the key algorithms we'll cover:\n",
        "\n",
        "\n",
        "\n",
        "1.   Breadth-First Search (BFS)\n",
        "\n",
        "2. Depth-First Search (DFS)\n",
        "\n",
        "3. Dijkstra's Algorithm\n",
        "4. Bellman-Ford Algorithm\n",
        "5. Floyd-Warshall Algorithm\n",
        "6. Prim's Algorithm (for Minimum Spanning Tree)\n",
        "7. Kruskal's Algorithm (for Minimum Spanning Tree)\n",
        "8. Ford-Fulkerson Algorithm (for Maximum Flow)\n",
        "9. Kosaraju's Algorithm (for Strongly Connected Components)\n",
        "10. A* Search Algorithm\n",
        "\n",
        "\n"
      ],
      "metadata": {
        "id": "hQRlxxpRHTt2"
      }
    },
    {
      "cell_type": "markdown",
      "source": [
        "1. Breadth-First Search (BFS):\n",
        "\n",
        "Problem:\n",
        "\n",
        "BFS is used to explore the nodes and edges of a graph level by level. It is particularly useful for finding the shortest path in unweighted graphs, as well as for tasks such as finding all nodes within a connected component or checking bipartiteness.\n",
        "\n",
        "Theory:\n",
        "\n",
        "BFS uses a queue to keep track of the next vertex to explore. Starting from a given source vertex, it explores all its neighbors before moving on to the neighbors' neighbors, ensuring that vertices are visited in order of their distance from the source.\n",
        "\n",
        "Time Complexity:\n",
        " O(V + E), where V is the number of vertices and E is the number of edges. This is because each vertex and edge is processed once.\n",
        "\n",
        "Space Complexity: O(V) for the queue and the visited set.\n",
        "\n"
      ],
      "metadata": {
        "id": "PmRXPOr8Hw6w"
      }
    },
    {
      "cell_type": "code",
      "source": [
        "from collections import deque\n",
        "\n",
        "def bfs(graph, start):\n",
        "    visited = set()\n",
        "    queue = deque([start])\n",
        "    visited.add(start)\n",
        "\n",
        "    while queue:\n",
        "        vertex = queue.popleft()\n",
        "        print(vertex, end=' ')\n",
        "\n",
        "        for neighbor, _ in graph[vertex]:\n",
        "            if neighbor not in visited:\n",
        "                visited.add(neighbor)\n",
        "                queue.append(neighbor)\n",
        "\n",
        "# Example usage\n",
        "graph = {\n",
        "    'A': [('B', 1), ('C', 4)],\n",
        "    'B': [('A', 1), ('C', 2), ('D', 5)],\n",
        "    'C': [('A', 4), ('B', 2), ('D', 1)],\n",
        "    'D': [('B', 5), ('C', 1)]\n",
        "}\n",
        "\n",
        "bfs(graph, 'A')\n"
      ],
      "metadata": {
        "colab": {
          "base_uri": "https://localhost:8080/"
        },
        "id": "mcXmSUj4FNBE",
        "outputId": "96b7a366-a9e0-4f25-fdc2-9eb9fd62735e"
      },
      "execution_count": 4,
      "outputs": [
        {
          "output_type": "stream",
          "name": "stdout",
          "text": [
            "A B C D "
          ]
        }
      ]
    },
    {
      "cell_type": "markdown",
      "source": [
        "Explanation:\n",
        "\n",
        "The bfs function performs a breadth-first search starting from the start vertex in the given graph.\n",
        "It maintains a visited set to keep track of visited vertices and a queue to store vertices to be explored.\n",
        "The function iterates over the vertices in the queue, dequeuing each vertex and visiting its neighbors.\n",
        "If a neighbor has not been visited, it is added to the visited set and enqueued for exploration.\n",
        "\n",
        "Exploration Strategy: BFS explores the graph level by level, starting from a given source vertex. It traverses all vertices at the current level before moving to the next level.\n",
        "\n",
        "Queue: BFS uses a queue to keep track of vertices to visit. It enqueues the source vertex and explores its neighbors before moving to the next level.\n",
        "\n",
        "Visited Set: To avoid visiting the same vertex multiple times, BFS maintains a set to mark visited vertices. This ensures that each vertex is processed only once."
      ],
      "metadata": {
        "id": "waYBSuH5KG82"
      }
    },
    {
      "cell_type": "markdown",
      "source": [
        "2. Depth-First Search (DFS):\n",
        "\n",
        "Problem:\n",
        "\n",
        "DFS is used for exploring the graph by going as deep as possible along each branch before backtracking. It is useful for tasks such as finding connected components, topological sorting, and detecting cycles in a graph.\n",
        "\n",
        "Theory:\n",
        "\n",
        "DFS uses a stack to manage the vertices to be explored next. This can be implemented either recursively (implicitly using the call stack) or iteratively (using an explicit stack).\n",
        "\n",
        "\n",
        "Time Complexity:\n",
        " O(V + E), where V is the number of vertices and E is the number of edges. Each vertex and edge is processed once.\n",
        "\n",
        "Space Complexity: O(V) for the stack and the visited set."
      ],
      "metadata": {
        "id": "58x2SbN0ISzH"
      }
    },
    {
      "cell_type": "code",
      "source": [
        "def dfs(graph, start, visited=None):\n",
        "    if visited is None:\n",
        "        visited = set()\n",
        "    visited.add(start)\n",
        "    print(start, end=' ')\n",
        "\n",
        "    for neighbor, _ in graph[start]:\n",
        "        if neighbor not in visited:\n",
        "            dfs(graph, neighbor, visited)\n",
        "\n",
        "# Example usage\n",
        "dfs(graph, 'A')\n"
      ],
      "metadata": {
        "colab": {
          "base_uri": "https://localhost:8080/"
        },
        "id": "HuPvmOd9H-6R",
        "outputId": "ca0a0a6a-a458-48a0-d805-1b1b8e5d74db"
      },
      "execution_count": 5,
      "outputs": [
        {
          "output_type": "stream",
          "name": "stdout",
          "text": [
            "A B C D "
          ]
        }
      ]
    },
    {
      "cell_type": "markdown",
      "source": [
        "Explanation:\n",
        "\n",
        "The dfs function performs a depth-first search starting from the start vertex in the given graph.\n",
        "It maintains a visited set to keep track of visited vertices.\n",
        "The function recursively explores each neighbor of the current vertex, marking it as visited and recursively calling dfs on unvisited neighbors.\n",
        "\n",
        "Exploration Strategy: DFS explores the graph by going as deep as possible along each branch before backtracking. It starts at the source vertex and explores one branch completely before backtracking and exploring other branches.\n",
        "\n",
        "Stack (or Recursion): DFS uses a stack (or recursion) to keep track of vertices to visit. It pushes vertices onto the stack as they are visited and pops them off when backtracking.\n",
        "\n",
        "Visited Set: Similar to BFS, DFS also maintains a set to mark visited vertices to prevent revisiting the same vertex."
      ],
      "metadata": {
        "id": "kQ3Dgg-XKNjn"
      }
    },
    {
      "cell_type": "markdown",
      "source": [
        "3. Dijkstra's Algorithm:\n",
        "\n",
        "Problem:\n",
        "\n",
        "Dijkstra's algorithm is used to find the shortest path from a single source vertex to all other vertices in a weighted graph with non-negative edge weights.\n",
        "\n",
        "Theory:\n",
        "\n",
        "Dijkstra's algorithm maintains a set of vertices whose shortest distance from the source is known. It repeatedly selects the vertex with the smallest known distance, updates the distances of its neighbors, and adds it to the set of known vertices.\n",
        "\n",
        "Time Complexity:\n",
        " O((V + E) log V) with a priority queue (binary heap). V is the number of vertices, and E is the number of edges.\n",
        "\n",
        "Space Complexity:\n",
        "O(V) for storing the distances and the priority queue."
      ],
      "metadata": {
        "id": "2vlPZ8zSIiLx"
      }
    },
    {
      "cell_type": "code",
      "source": [
        "import heapq\n",
        "\n",
        "def dijkstra(graph, start):\n",
        "    pq = []\n",
        "    distances = {vertex: float('infinity') for vertex in graph}\n",
        "    distances[start] = 0\n",
        "    heapq.heappush(pq, (0, start))\n",
        "\n",
        "    while pq:\n",
        "        current_distance, current_vertex = heapq.heappop(pq)\n",
        "\n",
        "        if current_distance > distances[current_vertex]:\n",
        "            continue\n",
        "\n",
        "        for neighbor, weight in graph[current_vertex]:\n",
        "            distance = current_distance + weight\n",
        "\n",
        "            if distance < distances[neighbor]:\n",
        "                distances[neighbor] = distance\n",
        "                heapq.heappush(pq, (distance, neighbor))\n",
        "\n",
        "    return distances\n",
        "\n",
        "# Example usage\n",
        "distances = dijkstra(graph, 'A')\n",
        "print(distances)\n"
      ],
      "metadata": {
        "colab": {
          "base_uri": "https://localhost:8080/"
        },
        "id": "qyyafMzcIfFI",
        "outputId": "79dca9b3-7c94-4ab4-f67e-d4d8259da736"
      },
      "execution_count": 6,
      "outputs": [
        {
          "output_type": "stream",
          "name": "stdout",
          "text": [
            "{'A': 0, 'B': 1, 'C': 3, 'D': 4}\n"
          ]
        }
      ]
    },
    {
      "cell_type": "markdown",
      "source": [
        "Dijkstra's algorithm finds the shortest paths from a single source vertex to all other vertices in the graph.\n",
        "It uses a priority queue (pq) to select the vertex with the smallest known distance.\n",
        "The algorithm maintains a distances dictionary to store the shortest distances from the source vertex to each vertex in the graph.\n",
        "\n",
        "Priority Queue: Dijkstra's algorithm maintains a priority queue to select the vertex with the smallest known distance. It ensures that the algorithm always explores the vertex with the shortest path first.\n",
        "\n",
        "Relaxation: The algorithm relaxes edges by updating the shortest distance to each vertex. It starts at the source vertex with distance 0 and progressively relaxes edges to update distances to other vertices.\n",
        "\n",
        "Termination: Dijkstra's algorithm terminates when all vertices are visited, or the destination vertex is reached. At this point, it has found the shortest path from the source to all other vertices."
      ],
      "metadata": {
        "id": "qQz1Lj-bKXZY"
      }
    },
    {
      "cell_type": "markdown",
      "source": [
        "4. Bellman-Ford Algorithm:\n",
        "\n",
        "Problem:\n",
        "\n",
        "The Bellman-Ford algorithm is used to find the shortest path from a single source vertex to all other vertices in a weighted graph. Unlike Dijkstra's algorithm, it can handle graphs with negative edge weights and detect negative weight cycles.\n",
        "\n",
        "Theory:\n",
        "\n",
        "Bellman-Ford relaxes all the edges up to V-1 times, where V is the number of vertices. In each pass, it updates the distances by considering the shortest path through each edge. After V-1 passes, it checks for negative weight cycles.\n",
        "\n",
        "\n",
        "\n",
        "Time Complexity: O(VE), where V is the number of vertices and E is the number of edges.\n",
        "\n",
        "Space Complexity: O(V) for storing the distances."
      ],
      "metadata": {
        "id": "EzkxsRV7IyBQ"
      }
    },
    {
      "cell_type": "code",
      "source": [
        "def bellman_ford(graph, start):\n",
        "    distance = {vertex: float('infinity') for vertex in graph}\n",
        "    distance[start] = 0\n",
        "\n",
        "    for _ in range(len(graph) - 1):\n",
        "        for vertex in graph:\n",
        "            for neighbor, weight in graph[vertex]:\n",
        "                if distance[vertex] + weight < distance[neighbor]:\n",
        "                    distance[neighbor] = distance[vertex] + weight\n",
        "\n",
        "    # Check for negative weight cycles\n",
        "    for vertex in graph:\n",
        "        for neighbor, weight in graph[vertex]:\n",
        "            if distance[vertex] + weight < distance[neighbor]:\n",
        "                print(\"Graph contains a negative weight cycle\")\n",
        "                return None\n",
        "\n",
        "    return distance\n",
        "\n",
        "# Example usage\n",
        "distances = bellman_ford(graph, 'A')\n",
        "print(distances)\n"
      ],
      "metadata": {
        "colab": {
          "base_uri": "https://localhost:8080/"
        },
        "id": "TL0j31ddIuYY",
        "outputId": "259ed86a-55a7-498b-b59c-dddeb39e7713"
      },
      "execution_count": 7,
      "outputs": [
        {
          "output_type": "stream",
          "name": "stdout",
          "text": [
            "{'A': 0, 'B': 1, 'C': 3, 'D': 4}\n"
          ]
        }
      ]
    },
    {
      "cell_type": "markdown",
      "source": [
        "Explanation:\n",
        "\n",
        "Bellman-Ford algorithm relaxes all edges repeatedly to find the shortest paths from a single source vertex to all other vertices.\n",
        "It iterates over all edges for a number of times equal to the number of vertices minus one to ensure convergence.\n",
        "The algorithm detects negative weight cycles by performing an additional relaxation step and checking if any distances can be further reduced.\n",
        "\n",
        "Edge Relaxation: Bellman-Ford algorithm relaxes all edges repeatedly to find the shortest paths from the source vertex to all other vertices. It iterates over all edges for a number of times equal to the number of vertices minus one.\n",
        "\n",
        "Negative Cycles: The algorithm detects negative weight cycles by performing an additional relaxation step. If any vertex's distance can still be reduced after the final iteration, it indicates the presence of a negative cycle."
      ],
      "metadata": {
        "id": "Do4m8NphKbKZ"
      }
    },
    {
      "cell_type": "markdown",
      "source": [
        "5. Floyd-Warshall Algorithm:\n",
        "\n",
        "Problem:\n",
        "\n",
        "The Floyd-Warshall algorithm is used to find the shortest paths between all pairs of vertices in a weighted graph.\n",
        "\n",
        "Theory:\n",
        "\n",
        "Floyd-Warshall is a dynamic programming algorithm that iteratively improves the solution by considering whether each vertex can be used as an intermediate point to shorten the path between two other vertices.\n",
        "\n",
        "Time Complexity: O(V^3), where V is the number of vertices.\n",
        "\n",
        "Space Complexity: O(V^2) for storing the distance matrix."
      ],
      "metadata": {
        "id": "EGZ6hG0eI5Rh"
      }
    },
    {
      "cell_type": "code",
      "source": [
        "def floyd_warshall(graph):\n",
        "    dist = {i: {j: float('infinity') for j in graph} for i in graph}\n",
        "    for vertex in graph:\n",
        "        dist[vertex][vertex] = 0\n",
        "        for neighbor, weight in graph[vertex].items():\n",
        "            dist[vertex][neighbor] = weight\n",
        "\n",
        "    for k in graph:\n",
        "        for i in graph:\n",
        "            for j in graph:\n",
        "                dist[i][j] = min(dist[i][j], dist[i][k] + dist[k][j])\n",
        "\n",
        "    return dist\n",
        "\n",
        "# Example usage\n",
        "graph_fw = {\n",
        "    'A': {'B': 1, 'C': 4},\n",
        "    'B': {'C': 2, 'D': 5},\n",
        "    'C': {'D': 1},\n",
        "    'D': {}\n",
        "}\n",
        "\n",
        "distances = floyd_warshall(graph_fw)\n",
        "for i in distances:\n",
        "    print(f\"{i}: {distances[i]}\")\n"
      ],
      "metadata": {
        "colab": {
          "base_uri": "https://localhost:8080/"
        },
        "id": "yIctNKl7I2h_",
        "outputId": "aee78604-ce0f-4722-8aa9-e15f42d11080"
      },
      "execution_count": 9,
      "outputs": [
        {
          "output_type": "stream",
          "name": "stdout",
          "text": [
            "A: {'A': 0, 'B': 1, 'C': 3, 'D': 4}\n",
            "B: {'A': inf, 'B': 0, 'C': 2, 'D': 3}\n",
            "C: {'A': inf, 'B': inf, 'C': 0, 'D': 1}\n",
            "D: {'A': inf, 'B': inf, 'C': inf, 'D': 0}\n"
          ]
        }
      ]
    },
    {
      "cell_type": "markdown",
      "source": [
        "Explanation\n",
        "\n",
        "Graph Representation: The graph is represented as a dictionary where each vertex maps to another dictionary of its neighbors and the corresponding edge weights.\n",
        "\n",
        "Distance Initialization:\n",
        "\n",
        "The dist dictionary is initialized with infinity for all pairs of vertices.\n",
        "The distance from a vertex to itself is set to 0.\n",
        "The distances from each vertex to its neighbors are set based on the input graph.\n",
        "\n",
        "Floyd-Warshall Algorithm:\n",
        "\n",
        "For each vertex k, and for every pair of vertices (i, j), the algorithm checks if a path from i to j through k is shorter than the current known path. If so, it updates the distance.\n",
        "Output: The final distance matrix dist contains the shortest distances between all pairs of vertices.\n",
        "\n",
        "Initialization: The algorithm initializes a distance matrix with the distances between vertices. Initially, the distance between each pair of vertices is set to infinity, except for the distance from a vertex to itself, which is set to 0.\n",
        "\n",
        "Dynamic Programming: Floyd-Warshall algorithm applies dynamic programming to find the shortest paths between all pairs of vertices in the graph. It iteratively updates the distance matrix by considering all intermediate vertices as possible paths.\n",
        "\n",
        "Optimization: By iteratively considering all vertices as intermediate points, the algorithm gradually improves the estimates of shortest paths until the optimal solution is found.\n",
        "\n"
      ],
      "metadata": {
        "id": "T8SY4ch_J6ss"
      }
    },
    {
      "cell_type": "markdown",
      "source": [
        "6. Prim's Algorithm (for Minimum Spanning Tree)\n",
        "\n",
        "Problem:\n",
        "\n",
        "Prim's algorithm is used to find the minimum spanning tree (MST) of a weighted, undirected graph. The MST is a subset of the edges that connects all vertices in the graph without any cycles and with the minimum possible total edge weight.\n",
        "\n",
        "Theory:\n",
        "\n",
        "Prim's algorithm starts with a single vertex and grows the MST one edge at a time. At each step, it adds the smallest edge that connects a vertex in the tree to a vertex outside the tree.\n",
        "\n",
        "\n",
        "\n",
        "Time Complexity: O((V + E) log V) with a priority queue.\n",
        "\n",
        "Space Complexity: O(V) for storing the MST and the priority queue."
      ],
      "metadata": {
        "id": "PgdqHSxiKo6Y"
      }
    },
    {
      "cell_type": "code",
      "source": [
        "import heapq\n",
        "\n",
        "def prim(graph, start):\n",
        "    mst = []\n",
        "    visited = set()\n",
        "    pq = [(0, start)]\n",
        "\n",
        "    while pq:\n",
        "        weight, vertex = heapq.heappop(pq)\n",
        "        if vertex in visited:\n",
        "            continue\n",
        "        visited.add(vertex)\n",
        "        mst.append((weight, vertex))\n",
        "\n",
        "        for neighbor, edge_weight in graph[vertex]:\n",
        "            if neighbor not in visited:\n",
        "                heapq.heappush(pq, (edge_weight, neighbor))\n",
        "\n",
        "    return mst\n",
        "\n",
        "# Example usage\n",
        "graph = {\n",
        "    'A': [('B', 1), ('C', 4)],\n",
        "    'B': [('A', 1), ('C', 2), ('D', 5)],\n",
        "    'C': [('A', 4), ('B', 2), ('D', 1)],\n",
        "    'D': [('B', 5), ('C', 1)]\n",
        "}\n",
        "\n",
        "mst = prim(graph, 'A')\n",
        "print(mst)\n"
      ],
      "metadata": {
        "colab": {
          "base_uri": "https://localhost:8080/"
        },
        "id": "fApGN21rI9pC",
        "outputId": "ffb21a82-747e-4147-ee6f-c4d6912d4c1c"
      },
      "execution_count": 10,
      "outputs": [
        {
          "output_type": "stream",
          "name": "stdout",
          "text": [
            "[(0, 'A'), (1, 'B'), (2, 'C'), (1, 'D')]\n"
          ]
        }
      ]
    },
    {
      "cell_type": "markdown",
      "source": [
        "Greedy Approach: Prim's algorithm constructs a minimum spanning tree (MST) by iteratively adding the smallest edge that connects a vertex in the tree to a vertex outside the tree.\n",
        "\n",
        "Priority Queue: The algorithm maintains a priority queue of edges sorted by weight. It selects the edge with the smallest weight at each step to grow the MST.\n",
        "\n",
        "Visited Set: Prim's algorithm also maintains a set of visited vertices to keep track of the vertices already included in the MST."
      ],
      "metadata": {
        "id": "d3ssWebqM3Mr"
      }
    },
    {
      "cell_type": "markdown",
      "source": [
        "7. Kruskal's Algorithm (for Minimum Spanning Tree)\n",
        "\n",
        "Problem:\n",
        "\n",
        "Kruskal's algorithm is another algorithm used to find the MST of a weighted, undirected graph. It focuses on adding the smallest edges while ensuring no cycles are formed.\n",
        "\n",
        "Theory:\n",
        "\n",
        "Kruskal's algorithm sorts all edges by weight and adds them one by one to the MST, skipping any edges that would form a cycle. It uses a disjoint-set (union-find) data structure to keep track of which vertices are in which components.\n",
        "\n",
        "\n",
        "\n",
        "\n",
        "Time Complexity: O(E log E) due to sorting the edges.\n",
        "\n",
        "Space Complexity: O(V) for storing the MST and the union-find data structure."
      ],
      "metadata": {
        "id": "0TLojVZTKwms"
      }
    },
    {
      "cell_type": "code",
      "source": [
        "class UnionFind:\n",
        "    def __init__(self, vertices):\n",
        "        self.parent = {v: v for v in vertices}\n",
        "        self.rank = {v: 0 for v in vertices}\n",
        "\n",
        "    def find(self, vertex):\n",
        "        if self.parent[vertex] != vertex:\n",
        "            self.parent[vertex] = self.find(self.parent[vertex])\n",
        "        return self.parent[vertex]\n",
        "\n",
        "    def union(self, vertex1, vertex2):\n",
        "        root1 = self.find(vertex1)\n",
        "        root2 = self.find(vertex2)\n",
        "\n",
        "        if root1 != root2:\n",
        "            if self.rank[root1] > self.rank[root2]:\n",
        "                self.parent[root2] = root1\n",
        "            elif self.rank[root1] < self.rank[root2]:\n",
        "                self.parent[root1] = root2\n",
        "            else:\n",
        "                self.parent[root2] = root1\n",
        "                self.rank[root1] += 1\n",
        "\n",
        "def kruskal(graph):\n",
        "    mst = []\n",
        "    edges = [(weight, u, v) for u in graph for v, weight in graph[u]]\n",
        "    edges.sort()\n",
        "    uf = UnionFind(graph.keys())\n",
        "\n",
        "    for weight, u, v in edges:\n",
        "        if uf.find(u) != uf.find(v):\n",
        "            uf.union(u, v)\n",
        "            mst.append((u, v, weight))\n",
        "\n",
        "    return mst\n",
        "\n",
        "# Example usage\n",
        "graph = {\n",
        "    'A': [('B', 1), ('C', 4)],\n",
        "    'B': [('A', 1), ('C', 2), ('D', 5)],\n",
        "    'C': [('A', 4), ('B', 2), ('D', 1)],\n",
        "    'D': [('B', 5), ('C', 1)]\n",
        "}\n",
        "\n",
        "mst = kruskal(graph)\n",
        "print(mst)\n"
      ],
      "metadata": {
        "colab": {
          "base_uri": "https://localhost:8080/"
        },
        "id": "b6ucm5CUKtWh",
        "outputId": "3d3489a2-1ca7-4a19-b605-b89e56a9258e"
      },
      "execution_count": 11,
      "outputs": [
        {
          "output_type": "stream",
          "name": "stdout",
          "text": [
            "[('A', 'B', 1), ('C', 'D', 1), ('B', 'C', 2)]\n"
          ]
        }
      ]
    },
    {
      "cell_type": "markdown",
      "source": [
        "\n",
        "\n",
        "**Overview:**\n",
        "Kruskal's algorithm is a greedy algorithm that finds a minimum spanning tree (MST) for a connected, weighted graph. An MST is a subset of the edges of the graph that forms a tree and includes every vertex, while minimizing the total edge weight.\n",
        "\n",
        "**Steps:**\n",
        "1. **Initialization:** Start with an empty MST and sort all the edges in non-decreasing order of their weights.\n",
        "2. **Edge Selection:** Consider each edge in sorted order. If including an edge does not form a cycle in the MST constructed so far, add it to the MST.\n",
        "3. **Cycle Detection:** To check for cycles, Kruskal's algorithm typically uses a disjoint-set data structure (also known as union-find) to keep track of connected components and detect cycles efficiently.\n",
        "\n",
        "**Detailed Explanation:**\n",
        "- **Sorting Edges:** First, the algorithm sorts all the edges of the graph by their weights in non-decreasing order. This sorting step ensures that we consider edges with lower weights first during the selection process.\n",
        "- **Edge Selection:** Kruskal's algorithm iterates through the sorted edges. For each edge, it checks if including the edge in the MST would create a cycle. If adding the edge doesn't form a cycle, it's safe to include it in the MST.\n",
        "- **Cycle Detection (Union-Find):** Kruskal's algorithm needs a mechanism to detect cycles efficiently. It employs a disjoint-set data structure (union-find) to achieve this. Each vertex initially belongs to its own disjoint set. As the algorithm progresses, it merges sets when edges are added to the MST. If adding an edge connects two vertices already in the same set, it indicates a cycle in the graph, and the edge is skipped.\n",
        "- **Termination:** The algorithm terminates when it has added `V - 1` edges to the MST, where `V` is the number of vertices in the graph. At this point, the MST is complete.\n",
        "\n",
        "**Complexity:**\n",
        "- **Time Complexity:** Sorting the edges takes `O(E log E)` time. Additionally, performing union-find operations for each edge takes `O(E log V)` time. Overall, the time complexity of Kruskal's algorithm is `O(E log E + E log V)`, which can be simplified to `O(E log V)` for most cases.\n",
        "- **Space Complexity:** Kruskal's algorithm requires space for storing the edges and the disjoint-set data structure. The space complexity is `O(V + E)`.\n",
        "\n",
        "**Example:**\n",
        "Consider the following graph:\n",
        "\n",
        "```\n",
        "     4    A - B\n",
        "  1 / \\  / |\n",
        "   /   C - D\n",
        "  3\\  /\n",
        "    E\n",
        "```\n",
        "\n",
        "- Sort the edges: `[(E, C, 3), (A, B, 4), (C, D, 1), (A, C, 1), (B, D, 2)]`\n",
        "- Start with an empty MST.\n",
        "- Select edges in order of increasing weight: `(A, C, 1)`, `(C, D, 1)`, `(B, D, 2)`, `(E, C, 3)`.\n",
        "- Final MST: `[(A, C, 1), (C, D, 1), (B, D, 2), (E, C, 3)]`\n",
        "\n"
      ],
      "metadata": {
        "id": "SnpBMwt9LmOP"
      }
    },
    {
      "cell_type": "markdown",
      "source": [
        "8. Ford-Fulkerson Algorithm (for Maximum Flow)\n",
        "\n",
        "Problem:\n",
        "\n",
        "The Ford-Fulkerson algorithm is used to find the maximum flow in a flow network. A flow network is a directed graph where each edge has a capacity, and each flow must satisfy the capacity constraints and the flow conservation property.\n",
        "\n",
        "Theory:\n",
        "\n",
        "Ford-Fulkerson repeatedly searches for augmenting paths in the residual graph, increases the flow along these paths, and updates the residual capacities until no more augmenting paths can be found.\n",
        "\n",
        "\n",
        "\n",
        "Time Complexity: O(max_flow * E), where max_flow is the maximum flow value and E is the number of edges.\n",
        "\n",
        "Space Complexity: O(V + E) for storing the residual graph."
      ],
      "metadata": {
        "id": "5OoR37KWK4NR"
      }
    },
    {
      "cell_type": "code",
      "source": [
        "from collections import defaultdict\n",
        "\n",
        "class Graph:\n",
        "    def __init__(self, vertices):\n",
        "        self.graph = defaultdict(list)\n",
        "        self.vertices = vertices\n",
        "\n",
        "    def add_edge(self, u, v, capacity):\n",
        "        self.graph[u].append((v, capacity))\n",
        "        self.graph[v].append((u, 0))  # Residual capacity\n",
        "\n",
        "    def bfs(self, source, sink, parent):\n",
        "        visited = set()\n",
        "        queue = deque([source])\n",
        "        visited.add(source)\n",
        "\n",
        "        while queue:\n",
        "            vertex = queue.popleft()\n",
        "\n",
        "            for neighbor, capacity in self.graph[vertex]:\n",
        "                if neighbor not in visited and capacity > 0:\n",
        "                    queue.append(neighbor)\n",
        "                    visited.add(neighbor)\n",
        "                    parent[neighbor] = vertex\n",
        "                    if neighbor == sink:\n",
        "                        return True\n",
        "        return False\n",
        "\n",
        "    def ford_fulkerson(self, source, sink):\n",
        "        parent = {}\n",
        "        max_flow = 0\n",
        "\n",
        "        while self.bfs(source, sink, parent):\n",
        "            path_flow = float('Inf')\n",
        "            s = sink\n",
        "\n",
        "            while s != source:\n",
        "                path_flow = min(path_flow, dict(self.graph[parent[s]])[s])\n",
        "                s = parent[s]\n",
        "\n",
        "            max_flow += path_flow\n",
        "\n",
        "            v = sink\n",
        "            while v != source:\n",
        "                u = parent[v]\n",
        "                self.graph[u] = [(x, w - path_flow) if x == v else (x, w) for x, w in self.graph[u]]\n",
        "                self.graph[v] = [(x, w + path_flow) if x == u else (x, w) for x, w in self.graph[v]]\n",
        "                v = parent[v]\n",
        "\n",
        "        return max_flow\n",
        "\n",
        "# Example usage\n",
        "g = Graph(6)\n",
        "g.add_edge('S', 'A', 16)\n",
        "g.add_edge('S', 'C', 13)\n",
        "g.add_edge('A', 'B', 12)\n",
        "g.add_edge('B', 'C', 9)\n",
        "g.add_edge('C', 'A', 4)\n",
        "g.add_edge('C', 'D', 14)\n",
        "g.add_edge('B', 'T', 20)\n",
        "g.add_edge('D', 'B', 7)\n",
        "g.add_edge('D', 'T', 4)\n",
        "\n",
        "source, sink = 'S', 'T'\n",
        "print(f\"Maximum flow: {g.ford_fulkerson(source, sink)}\")\n"
      ],
      "metadata": {
        "colab": {
          "base_uri": "https://localhost:8080/"
        },
        "id": "VMbz6jyNK1SB",
        "outputId": "a32c7b66-93d8-4dcb-bc26-3ebba1901f51"
      },
      "execution_count": 12,
      "outputs": [
        {
          "output_type": "stream",
          "name": "stdout",
          "text": [
            "Maximum flow: 23\n"
          ]
        }
      ]
    },
    {
      "cell_type": "markdown",
      "source": [
        "9. Kosaraju's Algorithm (for Strongly Connected Components)\n",
        "\n",
        "Problem:\n",
        "\n",
        "Kosaraju's algorithm is used to find the strongly connected components (SCCs) in a directed graph. An SCC is a maximal subgraph where every pair of vertices is reachable from each other.\n",
        "\n",
        "Theory:\n",
        "\n",
        "Kosaraju's algorithm involves two passes of DFS:\n",
        "\n",
        "Perform a DFS on the original graph to compute the finish times of each vertex.\n",
        "\n",
        "Perform a DFS on the transpose graph (reversed edges) in the order of decreasing finish times to discover the SCCs.\n",
        "\n",
        "Time Complexity: O(V + E), where V is the number of vertices and E is the number of edges.\n",
        "\n",
        "Space Complexity: O(V) for storing the order of finish times and the SCCs."
      ],
      "metadata": {
        "id": "tkAR2i7qK_OS"
      }
    },
    {
      "cell_type": "code",
      "source": [
        "from collections import defaultdict\n",
        "\n",
        "class Graph:\n",
        "    def __init__(self):\n",
        "        self.graph = defaultdict(list)\n",
        "\n",
        "    def add_edge(self, u, v):\n",
        "        self.graph[u].append(v)\n",
        "\n",
        "    def dfs(self, v, visited, stack):\n",
        "        visited.add(v)\n",
        "        for neighbor in self.graph[v]:\n",
        "            if neighbor not in visited:\n",
        "                self.dfs(neighbor, visited, stack)\n",
        "        stack.append(v)\n",
        "\n",
        "    def transpose(self):\n",
        "        g = Graph()\n",
        "        for vertex in self.graph:\n",
        "            for neighbor in self.graph[vertex]:\n",
        "                g.add_edge(neighbor, vertex)\n",
        "        return g\n",
        "\n",
        "    def fill_order(self, visited, stack):\n",
        "        for vertex in list(self.graph):\n",
        "            if vertex not in visited:\n",
        "                self.dfs(vertex, visited, stack)\n",
        "\n",
        "    def print_sccs(self):\n",
        "        stack = []\n",
        "        visited = set()\n",
        "\n",
        "        self.fill_order(visited, stack)\n",
        "        gr = self.transpose()\n",
        "        visited.clear()\n",
        "\n",
        "        while stack:\n",
        "            vertex = stack.pop()\n",
        "            if vertex not in visited:\n",
        "                scc = []\n",
        "                gr.dfs(vertex, visited, scc)\n",
        "                print(scc)\n",
        "\n",
        "# Example usage\n",
        "g = Graph()\n",
        "g.add_edge(1, 0)\n",
        "g.add_edge(0, 2)\n",
        "g.add_edge(2, 1)\n",
        "g.add_edge(0, 3)\n",
        "g.add_edge(3, 4)\n",
        "\n",
        "g.print_sccs()\n"
      ],
      "metadata": {
        "colab": {
          "base_uri": "https://localhost:8080/"
        },
        "id": "3r19GVRrK8VV",
        "outputId": "4e56efe4-b483-4753-e732-1ddaee6763c7"
      },
      "execution_count": 13,
      "outputs": [
        {
          "output_type": "stream",
          "name": "stdout",
          "text": [
            "[0, 2, 1]\n",
            "[3]\n",
            "[4]\n"
          ]
        }
      ]
    },
    {
      "cell_type": "markdown",
      "source": [
        "Directed Graph: Kosaraju's algorithm is used to find strongly connected components (SCCs) in a directed graph.\n",
        "\n",
        "Two DFS Passes: The algorithm consists of two depth-first search (DFS) passes. The first pass computes the finishing times of each vertex in the reverse graph. The second pass performs DFS in the original graph, starting from vertices with the highest finishing times obtained in the first pass.\n",
        "\n",
        "Stack or Recursion: Kosaraju's algorithm uses a stack or recursion to store the order of vertices visited during DFS traversal."
      ],
      "metadata": {
        "id": "4v-qFUmtM_q8"
      }
    },
    {
      "cell_type": "markdown",
      "source": [
        "10. A* Search Algorithm\n",
        "\n",
        "Problem:\n",
        "\n",
        "The A* search algorithm is used for finding the shortest path in a weighted graph. It is an extension of Dijkstra's algorithm that incorporates heuristics to guide the search.\n",
        "\n",
        "Theory:\n",
        "\n",
        "A* maintains a priority queue of paths to be explored, prioritizing paths based on their estimated total cost (actual cost + heuristic cost). The heuristic function estimates the cost from the current vertex to the goal.\n",
        "\n",
        "\n",
        "\n",
        "Time Complexity: Depends on the heuristic; can range from O(E) to O(V^2).\n",
        "\n",
        "Space Complexity: O(V) for storing the open set and the heuristic values."
      ],
      "metadata": {
        "id": "HQXQ_jxdLHRv"
      }
    },
    {
      "cell_type": "code",
      "source": [
        "import heapq\n",
        "\n",
        "def a_star(graph, start, goal, heuristic):\n",
        "    open_set = []\n",
        "    heapq.heappush(open_set, (0, start))\n",
        "    came_from = {}\n",
        "    g_score = {vertex: float('infinity') for vertex in graph}\n",
        "    g_score[start] = 0\n",
        "    f_score = {vertex: float('infinity') for vertex in graph}\n",
        "    f_score[start] = heuristic(start, goal)\n",
        "\n",
        "    while open_set:\n",
        "        current = heapq.heappop(open_set)[1]\n",
        "\n",
        "        if current == goal:\n",
        "            path = []\n",
        "            while current in came_from:\n",
        "                path.append(current)\n",
        "                current = came_from[current]\n",
        "            path.append(start)\n",
        "            return path[::-1]\n",
        "\n",
        "        for neighbor, weight in graph[current]:\n",
        "            tentative_g_score = g_score[current] + weight\n",
        "            if tentative_g_score < g_score[neighbor]:\n",
        "                came_from[neighbor] = current\n",
        "                g_score[neighbor] = tentative_g_score\n",
        "                f_score[neighbor] = g_score[neighbor] + heuristic(neighbor, goal)\n",
        "                heapq.heappush(open_set, (f_score[neighbor], neighbor))\n",
        "\n",
        "    return None\n",
        "\n",
        "def heuristic(a, b):\n",
        "    # Dummy heuristic function for demonstration purposes\n",
        "    return abs(ord(a) - ord(b))\n",
        "\n",
        "# Example usage\n",
        "graph = {\n",
        "    'A': [('B', 1), ('C', 4)],\n",
        "    'B': [('A', 1), ('C', 2), ('D', 5)],\n",
        "    'C': [('A', 4), ('B', 2), ('D', 1)],\n",
        "    'D': [('B', 5), ('C', 1)]\n",
        "}\n",
        "\n",
        "path = a_star(graph, 'A', 'D', heuristic)\n",
        "print(path)\n"
      ],
      "metadata": {
        "colab": {
          "base_uri": "https://localhost:8080/"
        },
        "id": "cT4ksvhZLESf",
        "outputId": "a1a4ecb0-86b1-4e5a-a89e-2a13c5bbf9c6"
      },
      "execution_count": 14,
      "outputs": [
        {
          "output_type": "stream",
          "name": "stdout",
          "text": [
            "['A', 'B', 'C', 'D']\n"
          ]
        }
      ]
    },
    {
      "cell_type": "markdown",
      "source": [
        "Informed Search: A* search algorithm is an informed search algorithm that uses heuristics to guide the search. It combines the advantages of both uniform-cost search and greedy best-first search.\n",
        "\n",
        "F(n) = g(n) + h(n): A* evaluates nodes based on the sum of the cost of reaching the node g(n) and the estimated cost to reach the goal from that node h(n).\n",
        "\n",
        "Priority Queue: The algorithm maintains a priority queue of nodes sorted by their total cost f(n). It selects the node with the lowest total cost to expand next."
      ],
      "metadata": {
        "id": "ZvxATqjoNE2r"
      }
    },
    {
      "cell_type": "markdown",
      "source": [
        "\n",
        "\n",
        "### Network Flows\n",
        "\n",
        "**Definition:**\n",
        "\n",
        "Network flow refers to the movement of resources (such as data, goods, or energy) through a network, represented by a directed graph where each edge has a capacity indicating the maximum amount of flow it can carry. The goal is to determine the maximum amount of flow that can be sent from a source node to a sink node while respecting capacity constraints.\n",
        "\n",
        "Network flow refers to the movement of resources, such as data, goods, or energy, through a network of interconnected nodes and edges. It is often represented by a directed graph, known as a flow network, where each edge has a capacity indicating the maximum amount of flow it can carry. The objective is to determine how to send the maximum amount of flow from a designated source node to a designated sink node while respecting the capacity constraints of the edges.\n",
        "\n",
        "**Key Components:**\n",
        "\n",
        "1. **Flow Network:** A directed graph where each edge has a capacity indicating the maximum amount of flow it can carry.\n",
        "2. **Source and Sink:** The source node is where the flow originates, and the sink node is the destination where the flow terminates.\n",
        "3. **Flow:** Assignment of flow values to edges, indicating the amount of flow sent along each edge.\n",
        "4. **Capacity Constraint:** The flow along any edge cannot exceed its capacity.\n",
        "5. **Conservation of Flow:** At every intermediate node (except the source and sink), the total inflow must equal the total outflow.\n",
        "\n",
        "**Network Flow Problems:**\n",
        "\n",
        "1. **Maximum Flow:** Determine the maximum amount of flow that can be sent from the source to the sink.\n",
        "2. **Minimum Cut:** Find the minimum capacity cut (set of edges whose removal disconnects the source from the sink), which is equal to the maximum flow value.\n",
        "3. **Multi-Commodity Flow:** Extend the concept to multiple commodities (types of flow) with different demands and capacities.\n",
        "4. **Maximum Bipartite Matching:** Represented as a network flow problem, where the maximum flow corresponds to the maximum matching in a bipartite graph.\n",
        "\n",
        "**Algorithms:**\n",
        "1. **Ford-Fulkerson Algorithm:** A generic method to solve the maximum flow problem by repeatedly augmenting flow along augmenting paths.\n",
        "2. **Edmonds-Karp Algorithm:** A variant of Ford-Fulkerson that uses BFS to find augmenting paths, ensuring a polynomial time complexity.\n",
        "3. **Push-Relabel Algorithm:** An efficient algorithm for solving the maximum flow problem, known for its simplicity and speed.\n",
        "4. **Dinic's Algorithm:** Another efficient algorithm that improves upon the scaling Ford-Fulkerson method by using level graphs.\n",
        "\n",
        "**Applications:**\n",
        "1. **Transportation Networks:** Routing vehicles through road networks, scheduling flights in airline networks.\n",
        "2. **Communication Networks:** Routing data packets through computer networks, optimizing internet traffic.\n",
        "3. **Logistics and Supply Chain:** Managing inventory and distribution networks, optimizing supply chain operations.\n",
        "4. **Telecommunications:** Allocating bandwidth in telecommunication networks, optimizing call routing.\n",
        "\n",
        "Understanding network flows is crucial in various domains, as it provides insights into optimizing resource allocation and improving system efficiency.\n"
      ],
      "metadata": {
        "id": "C2KDljoSNTfe"
      }
    },
    {
      "cell_type": "markdown",
      "source": [
        "\n",
        "\n",
        "\n",
        "### Key Components:\n",
        "\n",
        "1. **Flow Network:**\n",
        "   - A flow network is a directed graph \\( G = (V, E) \\) where \\( V \\) is the set of vertices (nodes) and \\( E \\) is the set of edges.\n",
        "   - Each edge \\( (u, v) \\) in the flow network has a capacity \\( c(u, v) \\) indicating the maximum flow that can pass through that edge.\n",
        "\n",
        "2. **Source and Sink:**\n",
        "   - The source node is the starting point of the flow.\n",
        "   - The sink node is the destination or endpoint of the flow.\n",
        "\n",
        "3. **Flow:**\n",
        "   - Flow \\( f(u, v) \\) on an edge \\( (u, v) \\) represents the amount of flow sent from node \\( u \\) to node \\( v \\).\n",
        "   - The flow must satisfy the capacity constraints: \\( 0 \\leq f(u, v) \\leq c(u, v) \\).\n",
        "\n",
        "4. **Capacity Constraint:**\n",
        "   - The flow along any edge cannot exceed its capacity: \\( f(u, v) \\leq c(u, v) \\).\n",
        "   - This constraint ensures that the network operates within its physical or operational limits.\n",
        "\n",
        "5. **Conservation of Flow:**\n",
        "   - At every intermediate node (except the source and sink), the total inflow must equal the total outflow.\n",
        "   - Mathematically, this is represented as the conservation equation: \\( \\sum f(v, u) = \\sum f(u, v) \\), where \\( (v, u) \\) represents an incoming edge and \\( (u, v) \\) represents an outgoing edge.\n",
        "\n",
        "### Network Flow Problems:\n",
        "\n",
        "1. **Maximum Flow:**\n",
        "   - Determine the maximum amount of flow that can be sent from the source to the sink while satisfying the capacity constraints.\n",
        "\n",
        "2. **Minimum Cut:**\n",
        "   - Find the minimum capacity cut (set of edges whose removal disconnects the source from the sink), which is equal to the maximum flow value.\n",
        "\n",
        "3. **Multi-Commodity Flow:**\n",
        "   - Extend the concept to multiple commodities (types of flow) with different demands and capacities.\n",
        "\n",
        "4. **Maximum Bipartite Matching:**\n",
        "   - Represented as a network flow problem, where the maximum flow corresponds to the maximum matching in a bipartite graph.\n",
        "\n",
        "### Applications:\n",
        "\n",
        "1. **Transportation Networks:**\n",
        "   - Optimizing traffic flow in road networks.\n",
        "   - Scheduling and routing vehicles in logistics and supply chain management.\n",
        "\n",
        "2. **Communication Networks:**\n",
        "   - Routing data packets through computer networks.\n",
        "   - Allocating bandwidth in telecommunication networks.\n",
        "\n",
        "3. **Logistics and Supply Chain:**\n",
        "   - Managing inventory and distribution networks.\n",
        "   - Optimizing supply chain operations for manufacturing and distribution.\n",
        "\n",
        "4. **Telecommunications:**\n",
        "   - Allocating resources and optimizing call routing in telecommunication networks.\n",
        "   - Managing network congestion and quality of service.\n",
        "\n",
        "Understanding network flows is crucial in various domains as it provides a systematic approach to optimize resource allocation, improve system efficiency, and solve complex logistical and operational challenges."
      ],
      "metadata": {
        "id": "hHHRlOK7Nlz3"
      }
    },
    {
      "cell_type": "markdown",
      "source": [
        "In the field of Artificial Intelligence (AI) and Genetic Algorithms (Genetic AI), several graph concepts are commonly used. Here are some of the most prevalent ones:\n",
        "\n",
        "1. **State Space Graphs:**\n",
        "   - State space graphs represent the states of a problem and the transitions between these states. Each node in the graph represents a state, and edges represent possible transitions between states.\n",
        "   - Used in search algorithms like Depth-First Search (DFS), Breadth-First Search (BFS), and A* search for solving problems such as pathfinding, planning, and optimization.\n",
        "\n",
        "2. **Decision Trees:**\n",
        "   - Decision trees can be viewed as directed acyclic graphs where each internal node represents a decision based on the value of a specific feature, and each leaf node represents a classification or decision.\n",
        "   - Widely used in machine learning for classification and regression tasks.\n",
        "\n",
        "3. **Bayesian Networks:**\n",
        "   - Bayesian networks, also known as belief networks or directed acyclic graphical models, represent probabilistic relationships among a set of variables.\n",
        "   - Used for probabilistic inference, reasoning under uncertainty, and decision-making in AI systems.\n",
        "\n",
        "4. **Neural Network Graphs:**\n",
        "   - Neural networks can be represented as directed graphs where nodes represent neurons or units, and edges represent connections between neurons.\n",
        "   - Used in deep learning for various tasks such as image recognition, natural language processing, and reinforcement learning.\n",
        "\n",
        "5. **Knowledge Graphs:**\n",
        "   - Knowledge graphs represent knowledge as a graph where nodes represent entities, and edges represent relationships between entities.\n",
        "   - Used for knowledge representation, semantic search, question answering, and other AI applications that require understanding of relationships between entities.\n",
        "\n",
        "6. **Evolutionary Graphs:**\n",
        "   - Evolutionary algorithms, including genetic algorithms, genetic programming, and evolutionary strategies, often use graphs to represent solutions and their evolution over generations.\n",
        "   - Used for optimization, search, and problem-solving in AI, particularly in areas such as evolutionary robotics, optimization problems, and automatic programming.\n",
        "\n",
        "7. **Social Networks:**\n",
        "   - Social networks are represented as graphs where nodes represent individuals, and edges represent relationships between individuals (e.g., friendship, communication).\n",
        "   - Used in AI for social network analysis, recommendation systems, sentiment analysis, and understanding human behavior.\n",
        "\n",
        "8. **Semantic Networks:**\n",
        "   - Semantic networks represent knowledge in the form of concepts (nodes) and relationships (edges) between concepts.\n",
        "   - Used for natural language understanding, semantic reasoning, and knowledge representation in AI systems.\n",
        "\n",
        "These are some of the commonly used graph concepts in AI and Genetic Algorithms. They play a crucial role in modeling, reasoning, decision-making, and learning in various AI applications."
      ],
      "metadata": {
        "id": "pw57r7r8ODJQ"
      }
    },
    {
      "cell_type": "markdown",
      "source": [
        "\n",
        "### 1. State Space Graphs:\n",
        "\n",
        "**Definition:**\n",
        "State space graphs represent the states of a problem and the transitions between these states. Each node in the graph represents a state, and edges represent possible transitions between states.\n",
        "\n",
        "**Details:**\n",
        "- **Nodes:** Nodes in the graph represent possible states of the problem being solved. These states could be configurations, positions, or any relevant conditions.\n",
        "- **Edges:** Edges between nodes represent transitions or actions that lead from one state to another. Each edge is associated with the action or transition taken to move from one state to another.\n",
        "- **Search Algorithms:** State space graphs are commonly used in search algorithms like Depth-First Search (DFS), Breadth-First Search (BFS), and A* search. These algorithms traverse the state space to find solutions to problems.\n",
        "\n",
        "**Example:**\n",
        "In the context of pathfinding, each node represents a location on a map, and edges represent possible movements between locations. Algorithms like A* search can be used to find the shortest path from a start location to a goal location by traversing this state space graph.\n",
        "\n",
        "### 2. Decision Trees:\n",
        "\n",
        "**Definition:**\n",
        "Decision trees are hierarchical structures that represent decisions based on the values of features. Each internal node represents a decision based on a feature, and each leaf node represents a classification or decision.\n",
        "\n",
        "**Details:**\n",
        "- **Internal Nodes:** Internal nodes in the tree represent decisions based on the values of features. For example, in a binary decision tree, an internal node might represent a condition like \"Is feature X greater than 5?\"\n",
        "- **Leaf Nodes:** Leaf nodes represent the outcome or classification resulting from following the path from the root of the tree to that node.\n",
        "- **Splitting Criteria:** Decision trees are constructed by recursively partitioning the feature space based on the values of features, using criteria such as entropy, Gini impurity, or information gain.\n",
        "- **Classification and Regression:** Decision trees can be used for both classification and regression tasks in machine learning.\n",
        "\n",
        "**Example:**\n",
        "In a decision tree for predicting whether a customer will purchase a product, internal nodes might represent conditions like \"Is the customer's age less than 30?\" or \"Is the product price less than $50?\" Leaf nodes would represent the decision to purchase or not purchase.\n",
        "\n",
        "### 3. Bayesian Networks:\n",
        "\n",
        "**Definition:**\n",
        "Bayesian networks, also known as belief networks or directed acyclic graphical models, represent probabilistic relationships among a set of variables.\n",
        "\n",
        "**Details:**\n",
        "- **Nodes and Edges:** In Bayesian networks, nodes represent random variables, and directed edges between nodes represent probabilistic dependencies or causal relationships between variables.\n",
        "- **Conditional Probability:** Each node is associated with a conditional probability distribution that quantifies the probability of the node given its parents in the network.\n",
        "- **Inference:** Bayesian networks are used for probabilistic inference, where the goal is to compute the posterior probability distribution over a set of variables given evidence observed in other variables.\n",
        "- **Learning:** Bayesian networks can be learned from data using techniques such as structure learning and parameter learning.\n",
        "\n",
        "**Example:**\n",
        "In a medical diagnosis system, a Bayesian network can represent the probabilistic relationships between symptoms, diseases, and test results. By observing symptoms, the network can infer the probability of various diseases.\n",
        "\n",
        "### 4. Neural Network Graphs:\n",
        "\n",
        "**Definition:**\n",
        "Neural networks are computational models inspired by the structure and function of the brain. They can be represented as directed graphs where nodes represent neurons or units, and edges represent connections between neurons.\n",
        "\n",
        "**Details:**\n",
        "- **Layers:** Neural networks are typically organized into layers, including an input layer, one or more hidden layers, and an output layer. Each layer consists of nodes or neurons.\n",
        "- **Connections:** Connections between neurons are represented by directed edges. Each edge is associated with a weight that determines the strength of the connection.\n",
        "- **Activation Function:** Nodes in the network apply an activation function to the weighted sum of inputs to produce an output. Common activation functions include sigmoid, ReLU, and tanh.\n",
        "- **Learning:** Neural networks learn from data through a process called backpropagation, where errors in predictions are propagated backward through the network to update the weights.\n",
        "\n",
        "**Example:**\n",
        "In image recognition tasks, a neural network can be represented as a graph where input nodes correspond to pixels in an image, hidden layers process features, and output nodes represent predicted classes or labels.\n",
        "\n",
        "### 5. Knowledge Graphs:\n",
        "\n",
        "**Definition:**\n",
        "Knowledge graphs represent knowledge as a graph where nodes represent entities, and edges represent relationships between entities.\n",
        "\n",
        "**Details:**\n",
        "- **Entities:** Nodes in the knowledge graph represent entities such as people, places, concepts, or objects.\n",
        "- **Relationships:** Edges between nodes represent relationships or connections between entities. Each edge is labeled with the type of relationship it represents.\n",
        "- **Semantic Web:** Knowledge graphs are often used in the Semantic Web to represent structured data and enable semantic querying and reasoning.\n",
        "- **Linked Data:** Knowledge graphs can be connected to external datasets through linked data principles, allowing for the integration of diverse sources of information.\n",
        "\n",
        "**Example:**\n",
        "In a knowledge graph representing a social network, nodes could represent individuals, and edges could represent relationships such as friendship, family ties, or professional connections.\n",
        "\n",
        "### 6. Evolutionary Graphs:\n",
        "\n",
        "**Definition:**\n",
        "Evolutionary algorithms, including genetic algorithms, genetic programming, and evolutionary strategies, often use graphs to represent solutions and their evolution over generations.\n",
        "\n",
        "**Details:**\n",
        "- **Individuals:** Graphs represent individuals or solutions in the population of an evolutionary algorithm.\n",
        "- **Genes or Chromosomes:** Nodes and edges in the graph correspond to genes or chromosomes that encode specific traits or features of the solution.\n",
        "- **Crossover and Mutation:** Evolutionary operators such as crossover and mutation act on the graph structure to create new individuals with potentially improved traits.\n",
        "- **Fitness Evaluation:** The fitness of individuals in the population is evaluated based on their performance in solving the problem at hand.\n",
        "\n",
        "**Example:**\n",
        "In genetic programming, graphs can represent programs or mathematical expressions, where nodes represent functions or operations, and edges represent inputs or arguments to those functions.\n",
        "\n",
        "\n",
        "\n",
        "### Social Networks:\n",
        "\n",
        "**Definition:**\n",
        "Social networks are represented as graphs where nodes represent individuals, and edges represent relationships between individuals (e.g., friendship, communication).\n",
        "\n",
        "**Details:**\n",
        "- **Nodes:** Nodes in social networks represent individual entities such as people, organizations, or entities.\n",
        "- **Edges:** Edges between nodes represent relationships or interactions between individuals. These relationships could include friendships, family ties, professional connections, or interactions such as likes, comments, or messages.\n",
        "- **Network Structure:** Social networks exhibit various structural properties, including clustering, centrality, and community structure, which can provide insights into the dynamics and behavior of the network.\n",
        "- **Analysis:** Social network analysis techniques are used to study properties of social networks, identify influential nodes or communities, detect patterns of behavior, and understand information diffusion and influence processes.\n",
        "- **Applications:** Social networks are used in a wide range of applications, including social media analysis, recommendation systems, viral marketing, and understanding human behavior and social dynamics.\n",
        "\n",
        "**Example:**\n",
        "In a social network like Facebook or LinkedIn, nodes represent users, and edges represent connections between users, such as friendships, professional relationships, or shared interests. Social network analysis can reveal patterns of connectivity, identify influential users or communities, and predict user behavior.\n",
        "\n",
        "### 8. Semantic Networks:\n",
        "\n",
        "**Definition:**\n",
        "Semantic networks represent knowledge in the form of concepts (nodes) and relationships (edges) between concepts.\n",
        "\n",
        "**Details:**\n",
        "- **Nodes:** Nodes in semantic networks represent concepts or entities, such as objects, events, or abstract ideas.\n",
        "- **Edges:** Edges between nodes represent semantic relationships or connections between concepts, such as \"is-a,\" \"part-of,\" \"is-related-to,\" or \"causes.\"\n",
        "- **Hierarchical Structure:** Semantic networks often exhibit a hierarchical structure, where nodes are organized into taxonomies or ontologies representing broader and more specific concepts.\n",
        "- **Semantic Reasoning:** Semantic networks enable semantic reasoning and inference, allowing for the deduction of new knowledge based on existing relationships in the network.\n",
        "- **Applications:** Semantic networks are used in natural language processing, knowledge representation, information retrieval, and semantic web technologies.\n",
        "\n",
        "**Example:**\n",
        "In a medical ontology, nodes could represent medical conditions, treatments, or symptoms, and edges could represent relationships such as \"causes,\" \"treated-by,\" or \"related-to.\" Semantic networks can be used to infer relationships between medical concepts, support diagnostic reasoning, and aid in decision-making.\n",
        "\n",
        "These graph concepts are fundamental in AI and genetic algorithms, providing powerful tools for modeling, reasoning, learning, and problem-solving in various domains. Let me know if you'd like further elaboration on any specific aspect!"
      ],
      "metadata": {
        "id": "qCDoFDQ8OQEr"
      }
    },
    {
      "cell_type": "code",
      "source": [],
      "metadata": {
        "id": "aWnqf4M8LLoJ"
      },
      "execution_count": null,
      "outputs": []
    }
  ]
}
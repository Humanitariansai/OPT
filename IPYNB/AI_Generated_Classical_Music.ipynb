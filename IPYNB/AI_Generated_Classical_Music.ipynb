{
 "cells": [
  {
   "cell_type": "code",
   "execution_count": null,
   "id": "d3b68fd6",
   "metadata": {},
   "outputs": [],
   "source": [
    "!pip install magenta"
   ]
  },
  {
   "cell_type": "code",
   "execution_count": null,
   "id": "4f8421a9",
   "metadata": {},
   "outputs": [],
   "source": [
    "\n",
    "import magenta\n",
    "import tensorflow as tf\n",
    "\n",
    "from magenta.models.melody_rnn import melody_rnn_sequence_generator\n",
    "from magenta.models.shared import sequence_generator_bundle\n",
    "from magenta.music.protobuf import generator_pb2\n",
    "from magenta.music.protobuf import music_pb2\n",
    "    "
   ]
  },
  {
   "cell_type": "code",
   "execution_count": null,
   "id": "1ce2d98b",
   "metadata": {},
   "outputs": [],
   "source": [
    "\n",
    "bundle = sequence_generator_bundle.read_bundle_file('/path/to/basic_rnn.mag')\n",
    "generator_map = melody_rnn_sequence_generator.get_generator_map()\n",
    "melody_rnn = generator_map['basic_rnn'](checkpoint=None, bundle=bundle)\n",
    "melody_rnn.initialize()\n",
    "    "
   ]
  },
  {
   "cell_type": "code",
   "execution_count": null,
   "id": "43f2b3b4",
   "metadata": {},
   "outputs": [],
   "source": [
    "\n",
    "seed_sequence = music_pb2.NoteSequence()\n",
    "# Add a middle C note.\n",
    "seed_sequence.notes.add(pitch=60, start_time=0, end_time=0.5, velocity=80)\n",
    "seed_sequence.tempos.add(qpm=120)\n",
    "    "
   ]
  },
  {
   "cell_type": "code",
   "execution_count": null,
   "id": "48c70c99",
   "metadata": {},
   "outputs": [],
   "source": [
    "\n",
    "generator_options = generator_pb2.GeneratorOptions()\n",
    "generator_options.args['temperature'].float_value = 1.0  # Higher for more randomness.\n",
    "generator_options.generate_sections.add(start_time=0, end_time=30)  # Generate 30 seconds of music.\n",
    "    "
   ]
  },
  {
   "cell_type": "code",
   "execution_count": null,
   "id": "926c4520",
   "metadata": {},
   "outputs": [],
   "source": [
    "\n",
    "generated_sequence = melody_rnn.generate(seed_sequence, generator_options)\n",
    "    "
   ]
  },
  {
   "cell_type": "code",
   "execution_count": null,
   "id": "79822088",
   "metadata": {},
   "outputs": [],
   "source": [
    "\n",
    "from magenta.music import midi_io\n",
    "\n",
    "# Convert the generated sequence to a MIDI file.\n",
    "midi_filename = 'generated_music.mid'\n",
    "midi_io.note_sequence_to_midi_file(generated_sequence, midi_filename)\n",
    "\n",
    "# To play the MIDI file, you would typically need to download it and play it in a suitable application.\n",
    "    "
   ]
  }
 ],
 "metadata": {},
 "nbformat": 4,
 "nbformat_minor": 5
}

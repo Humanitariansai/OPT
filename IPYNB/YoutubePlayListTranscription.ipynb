{
 "cells": [
  {
   "cell_type": "markdown",
   "metadata": {
    "id": "c1KStWvXwKWU"
   },
   "source": [
    "\n",
    "  \n",
    "\n",
    "*   This Python notebook provides a comprehensive solution for extracting audio from YouTube playlists, converting the audio into text through transcription, and organizing the output by including the title of each video followed by its transcribed content.\n",
    "*   It is designed to handle playlists of any size, with an option to limit the number of videos processed.\n",
    "*   The process involves downloading the audio tracks of selected YouTube videos, splitting large audio files into smaller, manageable chunks based on periods of silence, and then using speech recognition technology to convert these audio chunks into written text.\n",
    "*   The code efficiently manages multiple files by processing them in parallel, leveraging the capabilities of modern multi-core processors to speed up the transcription process.\n",
    "*     This approach is user-friendly, requiring only the URL of the YouTube playlist and the desired number of videos to process, making it accessible for individuals without technical expertise."
   ]
  },
  {
   "cell_type": "markdown",
   "metadata": {
    "id": "hVe6B47YvYHt"
   },
   "source": [
    "## Installing packages and Libraries"
   ]
  },
  {
   "cell_type": "code",
   "execution_count": 3,
   "metadata": {
    "colab": {
     "base_uri": "https://localhost:8080/"
    },
    "id": "C7tAlFqrS-ID",
    "outputId": "683ac249-1c9d-4822-a1ec-c1561bbe68c2"
   },
   "outputs": [
    {
     "name": "stdout",
     "output_type": "stream",
     "text": [
      "Requirement already satisfied: speechrecognition in /usr/local/lib/python3.10/dist-packages (3.10.1)\n",
      "Requirement already satisfied: pydub in /usr/local/lib/python3.10/dist-packages (0.25.1)\n",
      "Requirement already satisfied: pytube in /usr/local/lib/python3.10/dist-packages (15.0.0)\n",
      "Requirement already satisfied: requests>=2.26.0 in /usr/local/lib/python3.10/dist-packages (from speechrecognition) (2.31.0)\n",
      "Requirement already satisfied: typing-extensions in /usr/local/lib/python3.10/dist-packages (from speechrecognition) (4.9.0)\n",
      "Requirement already satisfied: charset-normalizer<4,>=2 in /usr/local/lib/python3.10/dist-packages (from requests>=2.26.0->speechrecognition) (3.3.2)\n",
      "Requirement already satisfied: idna<4,>=2.5 in /usr/local/lib/python3.10/dist-packages (from requests>=2.26.0->speechrecognition) (3.6)\n",
      "Requirement already satisfied: urllib3<3,>=1.21.1 in /usr/local/lib/python3.10/dist-packages (from requests>=2.26.0->speechrecognition) (2.0.7)\n",
      "Requirement already satisfied: certifi>=2017.4.17 in /usr/local/lib/python3.10/dist-packages (from requests>=2.26.0->speechrecognition) (2024.2.2)\n",
      "Requirement already satisfied: reportlab in /usr/local/lib/python3.10/dist-packages (4.1.0)\n",
      "Requirement already satisfied: pillow>=9.0.0 in /usr/local/lib/python3.10/dist-packages (from reportlab) (9.4.0)\n",
      "Requirement already satisfied: chardet in /usr/local/lib/python3.10/dist-packages (from reportlab) (5.2.0)\n"
     ]
    }
   ],
   "source": [
    "!pip install speechrecognition pydub pytube\n",
    "!pip install reportlab"
   ]
  },
  {
   "cell_type": "code",
   "execution_count": 17,
   "metadata": {
    "id": "qW-RL1_7TAPT"
   },
   "outputs": [],
   "source": [
    "import speech_recognition as sr\n",
    "from pydub import AudioSegment\n",
    "from pydub.silence import split_on_silence\n",
    "import tempfile\n",
    "import os\n",
    "from pytube import YouTube, Playlist\n",
    "from reportlab.lib.pagesizes import letter\n",
    "from reportlab.pdfgen import canvas\n",
    "from concurrent.futures import ThreadPoolExecutor, as_completed"
   ]
  },
  {
   "cell_type": "markdown",
   "metadata": {
    "id": "XZ70OMUmvdij"
   },
   "source": [
    "### To Transcribe YouTube Video"
   ]
  },
  {
   "cell_type": "markdown",
   "metadata": {
    "id": "kx2sOhRbRLhM"
   },
   "source": [
    "It usually takes 5-6 mins to transcribe a YouTube Video of 10 mins."
   ]
  },
  {
   "cell_type": "code",
   "execution_count": 8,
   "metadata": {
    "id": "FsJMq8MjRIMP"
   },
   "outputs": [],
   "source": [
    "# Function to download audio from YouTube\n",
    "def download_audio_from_youtube(url):\n",
    "    yt = YouTube(url)\n",
    "    audio_stream = yt.streams.filter(only_audio=True).first()\n",
    "    output_path = tempfile.gettempdir()\n",
    "    audio_stream.download(output_path=output_path)\n",
    "    return os.path.join(output_path, audio_stream.default_filename)\n",
    "\n",
    "# Function to transcribe a single audio chunk\n",
    "def transcribe_audio(path):\n",
    "    r = sr.Recognizer()\n",
    "    with sr.AudioFile(path) as source:\n",
    "        audio_listened = r.record(source)\n",
    "        try:\n",
    "            text = r.recognize_google(audio_listened)\n",
    "            return text\n",
    "        except sr.UnknownValueError as e:\n",
    "            return \"Error: \" + str(e)\n",
    "        except sr.RequestError as e:\n",
    "            return \"API Error: \" + str(e)\n",
    "\n",
    "# Parallel transcription function\n",
    "def transcribe_chunk(chunk_filename):\n",
    "    text = transcribe_audio(chunk_filename)\n",
    "    if not text.startswith(\"Error\"):\n",
    "        text = f\"{text.capitalize()}. \"\n",
    "    return text\n",
    "\n",
    "# Main function to handle large audio files and transcribe them using parallel processing\n",
    "def get_large_audio_transcription_on_silence(path):\n",
    "    sound = AudioSegment.from_file(path)\n",
    "    chunks = split_on_silence(sound, min_silence_len=500, silence_thresh=sound.dBFS-14, keep_silence=500)\n",
    "\n",
    "    folder_name = tempfile.mkdtemp()\n",
    "    chunk_filenames = []\n",
    "    for i, audio_chunk in enumerate(chunks, start=1):\n",
    "        chunk_filename = os.path.join(folder_name, f\"chunk{i}.wav\")\n",
    "        audio_chunk.export(chunk_filename, format=\"wav\")\n",
    "        chunk_filenames.append(chunk_filename)\n",
    "\n",
    "    whole_text = \"\"\n",
    "    with ThreadPoolExecutor(max_workers=os.cpu_count()) as executor:\n",
    "        future_text = {executor.submit(transcribe_chunk, filename): filename for filename in chunk_filenames}\n",
    "        for future in future_text:\n",
    "            whole_text += future.result()\n",
    "\n",
    "    # Cleanup\n",
    "    for file in os.listdir(folder_name):\n",
    "        os.remove(os.path.join(folder_name, file))\n",
    "    os.rmdir(folder_name)\n",
    "\n",
    "    return whole_text\n",
    "\n"
   ]
  },
  {
   "cell_type": "code",
   "execution_count": 9,
   "metadata": {
    "colab": {
     "base_uri": "https://localhost:8080/"
    },
    "id": "PQ8cuhcLTUq4",
    "outputId": "f755263d-9614-469b-9755-2c3aad292b49"
   },
   "outputs": [
    {
     "name": "stdout",
     "output_type": "stream",
     "text": [
      "Enter YouTube URL Link: https://www.youtube.com/watch?v=yRM3sc57q0c&list=PLXFMmlk03Dt7Q0xr1PIAriY5623cKiH7V&index=1\n",
      "Successful\n"
     ]
    }
   ],
   "source": [
    "YoutubeURL = input(\"Enter YouTube URL Link: \")\n",
    "audio_path = download_audio_from_youtube(YoutubeURL)\n",
    "transcription = get_large_audio_transcription_on_silence(audio_path)\n",
    "if transcription:\n",
    "    print(\"Successful\")\n",
    "else:\n",
    "    print(\"Please try again\")"
   ]
  },
  {
   "cell_type": "code",
   "execution_count": 10,
   "metadata": {
    "colab": {
     "base_uri": "https://localhost:8080/",
     "height": 296
    },
    "id": "mJewGZ6XTdKp",
    "outputId": "8c8fb19a-cc28-49a4-af11-729e7a718068"
   },
   "outputs": [
    {
     "data": {
      "application/vnd.google.colaboratory.intrinsic+json": {
       "type": "string"
      },
      "text/plain": [
       "\"Hi my name is tim roughgarden i'm a professor here at stanford university and i'd like to welcome you to this first course on the design and analysis of. Now i imagine many of you are already clear on your reasons for taking this. But let me begin by justifying this courses existence. I'm giving you some reasons why you should be highly motivated. To learn about algorithm. So what is an algorithm anyway. Basically it's a set of well-defined rules recipe in effect. For solving some computational problem. Maybe you have a bunch of numbers and you want to rearrange them so that they're in sorted order. Maybe you have a road map and an origin and a destination. And you want a computer shortest path from that origin. True that destination. Maybe you face a number of different tasks that need to be completed by certain deadlines. And you want to know in what order you should accomplish the tasks. So that you complete them all by their respective. So why study algorithm. Well first of all understanding the basics of algorithms and the related field of data structures. Is essential for doing serious work in pretty much any branch. My computer. This is the reason why here at stanford. Discourse is required for every single degree that the department off. Is the bachelor's degree the masters degree and also. Play the ph. To give you a few examples routing and communication networks. Piggybacks on classical shortest path algorithms. The effectiveness of public key cryptography relies on that of number theoretic al. Computer graphics needs the computational primitives supplied by geometric algorithms. Database indices rely on balanced search tree data structures. Computational biology uses dynamic programming algorithms to measure genome similarity. And the list. Error: Second algorithms play a key role in modern technological innovation. To give just one obvious example. Search engines use a tapestry of algorithms to efficiently compute the relevance. A various web pages to a given search query. The most famous search algorithm is the page rank algor. Currently in use by google. Indeed in a december 2010 report to the united states white house. The president's council of advisors on science and technology. Argue that in many areas. Performance gains due to improvements in algorithms. Have vastly exceeded even the dramatic performance gains due. To increase processor. Third although this is outside of the scope of this course. Algorithms are increasingly being used to provide a novel lens. On processes outside of computer science. For example the study of quantum computation has provided a new computational viewpoint. On quantum mechanics. Price fluctuations in economic markets can be fruitfully viewed as an algorithmic process. I need an evolution can be usefully thought of as a surprisingly effective search. The last two reasons for studying algorithms might sound flippant but both have more than a grain of truth to. I don't know about you but back when i was a student. My favorite classes were always the challenging ones that. After i struggled through them left me feeling a few iq points smarter than when i started. I hope this course provides a similar experience. For many of you. Finally i hope that by the end of the course i'll have converted some of you to agree with me that the design and analysis of algorithm. Is simply. It's an endeavor that requires a rare blend of precision. And creativity. It can certainly be frustrating at times but it's also highly addictive. Loft degeneres and get much more concrete. And let's remember that we've all been learning about and using algorithm. Since we were little kids. \""
      ]
     },
     "execution_count": 10,
     "metadata": {},
     "output_type": "execute_result"
    }
   ],
   "source": [
    "transcription"
   ]
  },
  {
   "cell_type": "markdown",
   "metadata": {
    "id": "urtC5-Yqvla3"
   },
   "source": [
    "Downloading the transcribed content in PDF format"
   ]
  },
  {
   "cell_type": "code",
   "execution_count": null,
   "metadata": {
    "id": "CmZqGnX-ZLCJ"
   },
   "outputs": [],
   "source": [
    "from reportlab.lib.pagesizes import letter\n",
    "from reportlab.platypus import SimpleDocTemplate, Paragraph\n",
    "from reportlab.lib.styles import getSampleStyleSheet\n",
    "\n",
    "# Define the PDF file name\n",
    "pdf_file_name = '/content/transcription.pdf'\n",
    "\n",
    "# Create a PDF document template\n",
    "doc = SimpleDocTemplate(pdf_file_name, pagesize=letter)\n",
    "story = []  # This will hold the content for the PDF\n",
    "\n",
    "# Set up a basic style for the paragraphs\n",
    "styles = getSampleStyleSheet()\n",
    "style = styles[\"Normal\"]\n",
    "\n",
    "# Choose font and font size\n",
    "style.fontName = 'Times-Roman'\n",
    "style.fontSize = 14\n",
    "\n",
    "# Split the transcription into paragraphs and add each to the story\n",
    "for paragraph in transcription.split('\\n'):\n",
    "    story.append(Paragraph(paragraph, style))\n",
    "\n",
    "# Build the PDF\n",
    "doc.build(story)"
   ]
  },
  {
   "cell_type": "markdown",
   "metadata": {
    "id": "VMGhA-uY0hIh"
   },
   "source": [
    "### To transcribe a YouTube Playlist"
   ]
  },
  {
   "cell_type": "code",
   "execution_count": 18,
   "metadata": {
    "id": "65BhcvoD0jM_"
   },
   "outputs": [],
   "source": [
    "# Function to download audio from a limited number of YouTube playlist videos\n",
    "def download_audio_from_playlist(playlist_url, max_videos=None):\n",
    "    playlist = Playlist(playlist_url)\n",
    "    audio_paths_with_titles = []\n",
    "    video_urls = playlist.video_urls[:max_videos] if max_videos else playlist.video_urls\n",
    "\n",
    "    for video_url in video_urls:\n",
    "        yt = YouTube(video_url)\n",
    "        audio_stream = yt.streams.filter(only_audio=True).first()\n",
    "        output_path = tempfile.gettempdir()\n",
    "        audio_path = audio_stream.download(output_path=output_path)\n",
    "        title = yt.title  # Get the video title\n",
    "        audio_paths_with_titles.append((audio_path, title))\n",
    "\n",
    "    return audio_paths_with_titles\n",
    "\n",
    "# Function to transcribe a single audio chunk\n",
    "def transcribe_audio(path):\n",
    "    r = sr.Recognizer()\n",
    "    with sr.AudioFile(path) as source:\n",
    "        audio_listened = r.record(source)\n",
    "        try:\n",
    "            text = r.recognize_google(audio_listened)\n",
    "            return text\n",
    "        except sr.UnknownValueError as e:\n",
    "            return \"Error: \" + str(e)\n",
    "        except sr.RequestError as e:\n",
    "            return \"API Error: \" + str(e)\n",
    "\n",
    "# Parallel transcription function\n",
    "def transcribe_chunk(chunk_filename):\n",
    "    text = transcribe_audio(chunk_filename)\n",
    "    if not text.startswith(\"Error\"):\n",
    "        text = f\"{text.capitalize()}. \"\n",
    "    return text\n",
    "\n",
    "# Main function to handle large audio files and transcribe them using parallel processing\n",
    "def get_large_audio_transcription_on_silence(path):\n",
    "    sound = AudioSegment.from_file(path)\n",
    "    chunks = split_on_silence(sound, min_silence_len=500, silence_thresh=sound.dBFS-14, keep_silence=500)\n",
    "\n",
    "    folder_name = tempfile.mkdtemp()\n",
    "    chunk_filenames = []\n",
    "    for i, audio_chunk in enumerate(chunks, start=1):\n",
    "        chunk_filename = os.path.join(folder_name, f\"chunk{i}.wav\")\n",
    "        audio_chunk.export(chunk_filename, format=\"wav\")\n",
    "        chunk_filenames.append(chunk_filename)\n",
    "\n",
    "    whole_text = \"\"\n",
    "    with ThreadPoolExecutor(max_workers=os.cpu_count()) as executor:\n",
    "        future_text = {executor.submit(transcribe_chunk, filename): filename for filename in chunk_filenames}\n",
    "        for future in as_completed(future_text):\n",
    "            whole_text += future.result()\n",
    "\n",
    "    # Cleanup\n",
    "    for file in os.listdir(folder_name):\n",
    "        os.remove(os.path.join(folder_name, file))\n",
    "    os.rmdir(folder_name)\n",
    "\n",
    "    return whole_text\n",
    "\n",
    "# Function to transcribe audio files from a YouTube playlist\n",
    "def transcribe_audio_files(audio_paths_with_titles):\n",
    "    transcriptions = []\n",
    "    for audio_path, title in audio_paths_with_titles:\n",
    "        transcription = get_large_audio_transcription_on_silence(audio_path)\n",
    "        transcriptions.append((title, transcription))\n",
    "\n",
    "    return transcriptions\n",
    "\n",
    "# Main function to process a YouTube playlist\n",
    "def process_youtube_playlist(playlist_url, max_videos=None):\n",
    "    audio_paths_with_titles = download_audio_from_playlist(playlist_url, max_videos)\n",
    "    transcriptions = transcribe_audio_files(audio_paths_with_titles)\n",
    "\n",
    "    for title, transcription in transcriptions:\n",
    "        print(f\"Title: {title}\\nTranscription: {transcription}\\n\")"
   ]
  },
  {
   "cell_type": "code",
   "execution_count": 20,
   "metadata": {
    "colab": {
     "base_uri": "https://localhost:8080/"
    },
    "id": "BwPUF9Vm0rYb",
    "outputId": "5bc04a0d-6065-4cc8-c475-b73b79729be4"
   },
   "outputs": [
    {
     "name": "stdout",
     "output_type": "stream",
     "text": [
      "Enter your playlist url : https://www.youtube.com/watch?v=yRM3sc57q0c&list=PLXFMmlk03Dt7Q0xr1PIAriY5623cKiH7V&index=1\n",
      "Title: 1   1   Why Study Algorithms   4 min\n",
      "Transcription: Now i imagine many of you are already clear on your reasons for taking this. Hi my name is tim roughgarden i'm a professor here at stanford university and i'd like to welcome you to this first course on the design and analysis of. But let me begin by justifying this courses existence. To learn about algorithm. I'm giving you some reasons why you should be highly motivated. So what is an algorithm anyway. For solving some computational problem. Basically it's a set of well-defined rules recipe in effect. Maybe you have a bunch of numbers and you want to rearrange them so that they're in sorted order. Maybe you have a road map and an origin and a destination. True that destination. And you want a computer shortest path from that origin. Maybe you face a number of different tasks that need to be completed by certain deadlines. And you want to know in what order you should accomplish the tasks. So why study algorithm. So that you complete them all by their respective. Is essential for doing serious work in pretty much any branch. Well first of all understanding the basics of algorithms and the related field of data structures. My computer. This is the reason why here at stanford. Discourse is required for every single degree that the department off. Play the ph. Is the bachelor's degree the masters degree and also. To give you a few examples routing and communication networks. Piggybacks on classical shortest path algorithms. The effectiveness of public key cryptography relies on that of number theoretic al. Computer graphics needs the computational primitives supplied by geometric algorithms. Database indices rely on balanced search tree data structures. And the list. Error: Computational biology uses dynamic programming algorithms to measure genome similarity. Second algorithms play a key role in modern technological innovation. To give just one obvious example. A various web pages to a given search query. Search engines use a tapestry of algorithms to efficiently compute the relevance. The most famous search algorithm is the page rank algor. Currently in use by google. Indeed in a december 2010 report to the united states white house. The president's council of advisors on science and technology. Argue that in many areas. Performance gains due to improvements in algorithms. Have vastly exceeded even the dramatic performance gains due. To increase processor. Algorithms are increasingly being used to provide a novel lens. Third although this is outside of the scope of this course. On processes outside of computer science. On quantum mechanics. For example the study of quantum computation has provided a new computational viewpoint. Price fluctuations in economic markets can be fruitfully viewed as an algorithmic process. I need an evolution can be usefully thought of as a surprisingly effective search. I don't know about you but back when i was a student. The last two reasons for studying algorithms might sound flippant but both have more than a grain of truth to. My favorite classes were always the challenging ones that. I hope this course provides a similar experience. After i struggled through them left me feeling a few iq points smarter than when i started. For many of you. Is simply. It's an endeavor that requires a rare blend of precision. And creativity. Finally i hope that by the end of the course i'll have converted some of you to agree with me that the design and analysis of algorithm. It can certainly be frustrating at times but it's also highly addictive. Loft degeneres and get much more concrete. And let's remember that we've all been learning about and using algorithm. Since we were little kids. \n",
      "\n",
      "Title: 1   2   Integer Multiplication 9 min\n",
      "Transcription: Maybe your third grade teacher didn't call it that maybe that's not how you thought about it but you learned a well-defined set of rules. Sometime when you were a kid maybe say third grader so you learned an algorithm for multiplying two numbers. For transforming an input namely two numbers. Into an out. Error: Let's pause and be precise about it. So that is an algorithm for solving a computational problem. Many of the lectures in this course will follow a pattern. Will define a computational problem will say what the input is and then we'll say what the desired output is. Then we will proceed to giving a solution to giving an algorithm that transforms the input into the output. When the integer multiplication problem the input is just two n digit numbers. So the length in of the two input integers x and y could be anything. But for motivation you might want to think of n is large in the thousands or even more perhaps were implementing some kind of cryptographic application which has to manipulate very large numbers. We also need to explain what is the desired output in this simple problem it's simply the product. X * y. Many people tell me you know by the end of the course they think of it fondly as a sort of acquired tast. Do a quick digression so back in third grade around the same time i was learning this integer multiplication algorithm i got a c in penmanship and i don't think my handwriting has improved much since. If you don't want to take the time deciphering the. But if you're feeling impatient please note there are typed versions of these slides which i encourage you to use as you go through the. Returning to the integer multiplication problem. Namely the same algorithm you learn. In third grade. Having now specified the problem precisely the input the desired output will move on to discussing an algorithm. The way we will assess the performance of this algorithm. Is through the number of basic operations that it perform. We're going to then move on to counting. The number of these basic operations performed. And for the moment let's think of a basic operation as simply adding to single digit numbers together or multiplying to single digit numbers. Buy the 3rd grade algorithm. As a function. Of the number. Of digits in the input. Here is the integer multiplication algorithm that you learned back in 3rd grade. Illustrated on a concrete example let's take say the numbers 1234. And 5678. Four digits. As we go through this algorithm quickly let me remind you that our focus should be on the number of basic operations this algorithm performs as a function of the length of the input. Tara recall we just compute one partial product for each digit of the second number. So we start by just multiplying four times the upper number 5678. When we do the next partial product we do a shift effectively we add a zero at the end and then we just do exactly the same thing. So you know 4 * 8 is 32 233 * 7 is 28 with the 3 that's 31 right down the one carry the three and so on. And so on for the final two partial products. And finally we just add everything up. Well you probably realized back in third grade is that this algorithm is what we would call correct. And all of your intermediate computations are done properly. That is no matter what integers x and y you start with if you carry out this procedure this algorithm. You're never going to get a wrong answer you always going to get the actual product. Then the algorithm will eventually terminate with the product x * y of the two input numbers. Well you probably didn't think about. Determination. That is the number of basic operations. What was the amount of time needed to carry this algorithm out to its conclusion. Before finishing. Additions or multiplications of single digit numbers needed. Let's begin with the first partial product the top. How did we compute this number 2271. So let's now quickly give an informal analysis of the number of operations required as a function of the input length. Error: Four basic oper. When's one for each digit of the top number. Will we multiply 4 times each of the numbers 567 and 8. But in any case this is at most. Plus we had to do these carrie so those were some extra edition. Twice times the number of digits in the first. At most two end basic operations. Deform this first partial product. And if you think about it there's nothing special about the first partial product. The same argument says that we needed most to an operations. To form each of the partial product. Of which there are again in one for each digit of the second. To form all of these blue numbers all of the partial products. Well if we need it most to an operations to compute each partial product and we have n partial products that's a total of it most 2n squared operations. Now we're not done at that point we still have to add all of those up. Roughly another say 2n squared at most oper. To get the final answer in this case 7,000,006,652 and that's final edition requires a comparable number of oper. The number of operations that the grade school. Multiplication algorithm performs. So the upshot the high-level point that i want you to focus on is that as we think about the input numbers getting bigger and bigger that is as a function of n the number of digits in the input numbers. Times in. Grows like some constant roughly for say. In the input length. That is its quadratic. Then the number of operations you will have to perform using this algorithm. Cast to go up by a factor of four. For example if you double the size of the input if you double the number of digits in each of the two integers that you're given. Similarly if you quadruple the input l. The number of operations is going to go up by a factor of 16. And so on. Now depending on what type of third grader you. You might well have accepted this procedure as the unique. Or at least the optimal way. Of multiplying two numbers together. Error: Now if you want to be a serious algorithm designer that kind of obedient timidity is a quality you're going to have to grow out of. An early and extremely important textbook on the design and analysis of algorithms was by ajo hotp. Error: And there's the following quote which i absolutely adore. So after iterating through a number of the algorithm design par. What is covered in the textbook. They say the following. For the good algorithm design. Perhaps the most important principle of all. Conte. Is to refuse to be. And i think this is a spot on comments. I might summarize it a little bit more succinctly. Error: The question. Can we do better. As an algorithm designer you should adopt as your mantra. Like for example. This question is particularly apropos when you're faced with a naive or straightforward solution to a computational problem. The third grade algorithm for integer multiplication. A question you perhaps did not ask yourself in third grade was. And. Can we do better than the straightforward multiplication algorithm. Is the time. \n",
      "\n",
      "None\n"
     ]
    }
   ],
   "source": [
    "#Enter your Playlist URL here\n",
    "playlist_url = input(\"Enter your playlist url : \")\n",
    "max_videos = 2\n",
    "print(process_youtube_playlist(playlist_url, max_videos))"
   ]
  },
  {
   "cell_type": "code",
   "execution_count": null,
   "metadata": {
    "id": "sjNv7H7N3jJ6"
   },
   "outputs": [],
   "source": []
  }
 ],
 "metadata": {
  "colab": {
   "provenance": []
  },
  "kernelspec": {
   "display_name": "Python 3",
   "language": "python",
   "name": "python3"
  },
  "language_info": {
   "codemirror_mode": {
    "name": "ipython",
    "version": 3
   },
   "file_extension": ".py",
   "mimetype": "text/x-python",
   "name": "python",
   "nbconvert_exporter": "python",
   "pygments_lexer": "ipython3",
   "version": "3.8.6"
  }
 },
 "nbformat": 4,
 "nbformat_minor": 1
}
